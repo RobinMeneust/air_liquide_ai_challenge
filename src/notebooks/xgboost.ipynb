{
 "cells": [
  {
   "metadata": {},
   "cell_type": "markdown",
   "source": "# XGBoost",
   "id": "f098efd9c848e438"
  },
  {
   "metadata": {},
   "cell_type": "markdown",
   "source": "## Read data",
   "id": "6d91bf3fc53c2e75"
  },
  {
   "cell_type": "code",
   "id": "initial_id",
   "metadata": {
    "collapsed": true,
    "ExecuteTime": {
     "end_time": "2025-01-09T22:11:34.708895Z",
     "start_time": "2025-01-09T22:11:34.699383Z"
    }
   },
   "source": [
    "import os\n",
    "\n",
    "import numpy as np\n",
    "import pandas as pd\n",
    "from tqdm import tqdm\n",
    "import matplotlib.pyplot as plt\n",
    "import xgboost as xgb\n",
    "from sklearn.model_selection import GridSearchCV\n",
    "from sklearn.metrics import mean_squared_error\n",
    "from typing import List\n",
    "\n",
    "df_price = pd.read_parquet(\"../data/donnees historiques/prix/hourly_day_ahead_prices_2017_2020.parquet\").reset_index()\n",
    "df_price_generated_00257 = pd.read_parquet(\"../data/scenarios synthetiques/prix/00257.parquet\")"
   ],
   "outputs": [],
   "execution_count": 129
  },
  {
   "metadata": {
    "ExecuteTime": {
     "end_time": "2025-01-09T21:17:23.757117Z",
     "start_time": "2025-01-09T21:17:23.730921Z"
    }
   },
   "cell_type": "code",
   "source": [
    "print(df_price.index.min())\n",
    "print(df_price.index.max())\n",
    "df_price.head()"
   ],
   "id": "e9fa8021e20d5e65",
   "outputs": [
    {
     "name": "stdout",
     "output_type": "stream",
     "text": [
      "0\n",
      "35063\n"
     ]
    },
    {
     "data": {
      "text/plain": [
       "                       date  price\n",
       "0 2016-12-31 23:00:00+00:00  58.82\n",
       "1 2017-01-01 00:00:00+00:00  58.23\n",
       "2 2017-01-01 01:00:00+00:00  51.95\n",
       "3 2017-01-01 02:00:00+00:00  47.27\n",
       "4 2017-01-01 03:00:00+00:00  45.49"
      ],
      "text/html": [
       "<div>\n",
       "<style scoped>\n",
       "    .dataframe tbody tr th:only-of-type {\n",
       "        vertical-align: middle;\n",
       "    }\n",
       "\n",
       "    .dataframe tbody tr th {\n",
       "        vertical-align: top;\n",
       "    }\n",
       "\n",
       "    .dataframe thead th {\n",
       "        text-align: right;\n",
       "    }\n",
       "</style>\n",
       "<table border=\"1\" class=\"dataframe\">\n",
       "  <thead>\n",
       "    <tr style=\"text-align: right;\">\n",
       "      <th></th>\n",
       "      <th>date</th>\n",
       "      <th>price</th>\n",
       "    </tr>\n",
       "  </thead>\n",
       "  <tbody>\n",
       "    <tr>\n",
       "      <th>0</th>\n",
       "      <td>2016-12-31 23:00:00+00:00</td>\n",
       "      <td>58.82</td>\n",
       "    </tr>\n",
       "    <tr>\n",
       "      <th>1</th>\n",
       "      <td>2017-01-01 00:00:00+00:00</td>\n",
       "      <td>58.23</td>\n",
       "    </tr>\n",
       "    <tr>\n",
       "      <th>2</th>\n",
       "      <td>2017-01-01 01:00:00+00:00</td>\n",
       "      <td>51.95</td>\n",
       "    </tr>\n",
       "    <tr>\n",
       "      <th>3</th>\n",
       "      <td>2017-01-01 02:00:00+00:00</td>\n",
       "      <td>47.27</td>\n",
       "    </tr>\n",
       "    <tr>\n",
       "      <th>4</th>\n",
       "      <td>2017-01-01 03:00:00+00:00</td>\n",
       "      <td>45.49</td>\n",
       "    </tr>\n",
       "  </tbody>\n",
       "</table>\n",
       "</div>"
      ]
     },
     "execution_count": 2,
     "metadata": {},
     "output_type": "execute_result"
    }
   ],
   "execution_count": 2
  },
  {
   "metadata": {
    "ExecuteTime": {
     "end_time": "2025-01-09T21:17:23.929692Z",
     "start_time": "2025-01-09T21:17:23.921366Z"
    }
   },
   "cell_type": "code",
   "source": [
    "print(df_price_generated_00257[\"dayofweek\"].min())\n",
    "print(df_price_generated_00257[\"dayofweek\"].max())\n",
    "df_price_generated_00257.head()"
   ],
   "id": "dfe6f45090e420a8",
   "outputs": [
    {
     "name": "stdout",
     "output_type": "stream",
     "text": [
      "0\n",
      "6\n"
     ]
    },
    {
     "data": {
      "text/plain": [
       "   price  dayofweek  hourofday\n",
       "0  31.66          0          0\n",
       "1  31.06          0          1\n",
       "2  27.81          0          2\n",
       "3  27.54          0          3\n",
       "4  25.04          0          4"
      ],
      "text/html": [
       "<div>\n",
       "<style scoped>\n",
       "    .dataframe tbody tr th:only-of-type {\n",
       "        vertical-align: middle;\n",
       "    }\n",
       "\n",
       "    .dataframe tbody tr th {\n",
       "        vertical-align: top;\n",
       "    }\n",
       "\n",
       "    .dataframe thead th {\n",
       "        text-align: right;\n",
       "    }\n",
       "</style>\n",
       "<table border=\"1\" class=\"dataframe\">\n",
       "  <thead>\n",
       "    <tr style=\"text-align: right;\">\n",
       "      <th></th>\n",
       "      <th>price</th>\n",
       "      <th>dayofweek</th>\n",
       "      <th>hourofday</th>\n",
       "    </tr>\n",
       "  </thead>\n",
       "  <tbody>\n",
       "    <tr>\n",
       "      <th>0</th>\n",
       "      <td>31.66</td>\n",
       "      <td>0</td>\n",
       "      <td>0</td>\n",
       "    </tr>\n",
       "    <tr>\n",
       "      <th>1</th>\n",
       "      <td>31.06</td>\n",
       "      <td>0</td>\n",
       "      <td>1</td>\n",
       "    </tr>\n",
       "    <tr>\n",
       "      <th>2</th>\n",
       "      <td>27.81</td>\n",
       "      <td>0</td>\n",
       "      <td>2</td>\n",
       "    </tr>\n",
       "    <tr>\n",
       "      <th>3</th>\n",
       "      <td>27.54</td>\n",
       "      <td>0</td>\n",
       "      <td>3</td>\n",
       "    </tr>\n",
       "    <tr>\n",
       "      <th>4</th>\n",
       "      <td>25.04</td>\n",
       "      <td>0</td>\n",
       "      <td>4</td>\n",
       "    </tr>\n",
       "  </tbody>\n",
       "</table>\n",
       "</div>"
      ]
     },
     "execution_count": 3,
     "metadata": {},
     "output_type": "execute_result"
    }
   ],
   "execution_count": 3
  },
  {
   "metadata": {},
   "cell_type": "markdown",
   "source": "## Preprocess data",
   "id": "a877f53ab1e9b236"
  },
  {
   "metadata": {
    "ExecuteTime": {
     "end_time": "2025-01-09T21:30:36.596832Z",
     "start_time": "2025-01-09T21:30:36.586519Z"
    }
   },
   "cell_type": "code",
   "source": [
    "def preprocess_true_data(df):\n",
    "    # df['date'] = pd.to_datetime(df['date'])\n",
    "    new_df = df.copy()\n",
    "    new_df['dayofweek'] = new_df['date'].dt.dayofweek\n",
    "    new_df['hourofday'] = new_df['date'].dt.hour\n",
    "    new_df['dayofyear'] = new_df['date'].dt.dayofyear\n",
    "    new_df[\"dayofseries\"] = (new_df[\"date\"] - new_df[\"date\"].min()).dt.days\n",
    "    new_df[\"hoursofseries\"] = new_df[\"dayofseries\"]*24 + new_df[\"hourofday\"]\n",
    "    \n",
    "    return new_df"
   ],
   "id": "798792fc08e5a160",
   "outputs": [],
   "execution_count": 30
  },
  {
   "metadata": {
    "ExecuteTime": {
     "end_time": "2025-01-09T21:30:39.425795Z",
     "start_time": "2025-01-09T21:30:39.405420Z"
    }
   },
   "cell_type": "code",
   "source": [
    "df_price_preprocessed = preprocess_true_data(df_price)\n",
    "df_price_preprocessed.head()"
   ],
   "id": "1f0417d47b9de1d0",
   "outputs": [
    {
     "data": {
      "text/plain": [
       "                       date  price  dayofweek  hourofday  dayofyear  \\\n",
       "0 2016-12-31 23:00:00+00:00  58.82          5         23        366   \n",
       "1 2017-01-01 00:00:00+00:00  58.23          6          0          1   \n",
       "2 2017-01-01 01:00:00+00:00  51.95          6          1          1   \n",
       "3 2017-01-01 02:00:00+00:00  47.27          6          2          1   \n",
       "4 2017-01-01 03:00:00+00:00  45.49          6          3          1   \n",
       "\n",
       "   dayofseries  hoursofseries  \n",
       "0            0             23  \n",
       "1            0              0  \n",
       "2            0              1  \n",
       "3            0              2  \n",
       "4            0              3  "
      ],
      "text/html": [
       "<div>\n",
       "<style scoped>\n",
       "    .dataframe tbody tr th:only-of-type {\n",
       "        vertical-align: middle;\n",
       "    }\n",
       "\n",
       "    .dataframe tbody tr th {\n",
       "        vertical-align: top;\n",
       "    }\n",
       "\n",
       "    .dataframe thead th {\n",
       "        text-align: right;\n",
       "    }\n",
       "</style>\n",
       "<table border=\"1\" class=\"dataframe\">\n",
       "  <thead>\n",
       "    <tr style=\"text-align: right;\">\n",
       "      <th></th>\n",
       "      <th>date</th>\n",
       "      <th>price</th>\n",
       "      <th>dayofweek</th>\n",
       "      <th>hourofday</th>\n",
       "      <th>dayofyear</th>\n",
       "      <th>dayofseries</th>\n",
       "      <th>hoursofseries</th>\n",
       "    </tr>\n",
       "  </thead>\n",
       "  <tbody>\n",
       "    <tr>\n",
       "      <th>0</th>\n",
       "      <td>2016-12-31 23:00:00+00:00</td>\n",
       "      <td>58.82</td>\n",
       "      <td>5</td>\n",
       "      <td>23</td>\n",
       "      <td>366</td>\n",
       "      <td>0</td>\n",
       "      <td>23</td>\n",
       "    </tr>\n",
       "    <tr>\n",
       "      <th>1</th>\n",
       "      <td>2017-01-01 00:00:00+00:00</td>\n",
       "      <td>58.23</td>\n",
       "      <td>6</td>\n",
       "      <td>0</td>\n",
       "      <td>1</td>\n",
       "      <td>0</td>\n",
       "      <td>0</td>\n",
       "    </tr>\n",
       "    <tr>\n",
       "      <th>2</th>\n",
       "      <td>2017-01-01 01:00:00+00:00</td>\n",
       "      <td>51.95</td>\n",
       "      <td>6</td>\n",
       "      <td>1</td>\n",
       "      <td>1</td>\n",
       "      <td>0</td>\n",
       "      <td>1</td>\n",
       "    </tr>\n",
       "    <tr>\n",
       "      <th>3</th>\n",
       "      <td>2017-01-01 02:00:00+00:00</td>\n",
       "      <td>47.27</td>\n",
       "      <td>6</td>\n",
       "      <td>2</td>\n",
       "      <td>1</td>\n",
       "      <td>0</td>\n",
       "      <td>2</td>\n",
       "    </tr>\n",
       "    <tr>\n",
       "      <th>4</th>\n",
       "      <td>2017-01-01 03:00:00+00:00</td>\n",
       "      <td>45.49</td>\n",
       "      <td>6</td>\n",
       "      <td>3</td>\n",
       "      <td>1</td>\n",
       "      <td>0</td>\n",
       "      <td>3</td>\n",
       "    </tr>\n",
       "  </tbody>\n",
       "</table>\n",
       "</div>"
      ]
     },
     "execution_count": 31,
     "metadata": {},
     "output_type": "execute_result"
    }
   ],
   "execution_count": 31
  },
  {
   "metadata": {
    "ExecuteTime": {
     "end_time": "2025-01-09T21:30:40.925833Z",
     "start_time": "2025-01-09T21:30:40.911621Z"
    }
   },
   "cell_type": "code",
   "source": [
    "def preprocess_synthetic_data(df):\n",
    "    new_df = df.copy()\n",
    "    new_df['dayofseries'] = 0\n",
    "    \n",
    "    day = -1\n",
    "    for i in range(0, len(new_df)):\n",
    "        if i % 24 == 0:\n",
    "            day += 1\n",
    "        new_df.loc[i, 'dayofseries'] = day\n",
    "    \n",
    "    new_df[\"hoursofseries\"] = new_df[\"dayofseries\"]*24 + new_df[\"hourofday\"]\n",
    "    return new_df"
   ],
   "id": "49c0607038083925",
   "outputs": [],
   "execution_count": 32
  },
  {
   "metadata": {
    "ExecuteTime": {
     "end_time": "2025-01-09T21:30:43.997088Z",
     "start_time": "2025-01-09T21:30:42.065844Z"
    }
   },
   "cell_type": "code",
   "source": [
    "df_price_generated_00257_preprocessed = preprocess_synthetic_data(df_price_generated_00257)\n",
    "df_price_generated_00257_preprocessed.head()"
   ],
   "id": "3d931d2f756e89ca",
   "outputs": [
    {
     "data": {
      "text/plain": [
       "   price  dayofweek  hourofday  dayofseries  hoursofseries\n",
       "0  31.66          0          0            0              0\n",
       "1  31.06          0          1            0              1\n",
       "2  27.81          0          2            0              2\n",
       "3  27.54          0          3            0              3\n",
       "4  25.04          0          4            0              4"
      ],
      "text/html": [
       "<div>\n",
       "<style scoped>\n",
       "    .dataframe tbody tr th:only-of-type {\n",
       "        vertical-align: middle;\n",
       "    }\n",
       "\n",
       "    .dataframe tbody tr th {\n",
       "        vertical-align: top;\n",
       "    }\n",
       "\n",
       "    .dataframe thead th {\n",
       "        text-align: right;\n",
       "    }\n",
       "</style>\n",
       "<table border=\"1\" class=\"dataframe\">\n",
       "  <thead>\n",
       "    <tr style=\"text-align: right;\">\n",
       "      <th></th>\n",
       "      <th>price</th>\n",
       "      <th>dayofweek</th>\n",
       "      <th>hourofday</th>\n",
       "      <th>dayofseries</th>\n",
       "      <th>hoursofseries</th>\n",
       "    </tr>\n",
       "  </thead>\n",
       "  <tbody>\n",
       "    <tr>\n",
       "      <th>0</th>\n",
       "      <td>31.66</td>\n",
       "      <td>0</td>\n",
       "      <td>0</td>\n",
       "      <td>0</td>\n",
       "      <td>0</td>\n",
       "    </tr>\n",
       "    <tr>\n",
       "      <th>1</th>\n",
       "      <td>31.06</td>\n",
       "      <td>0</td>\n",
       "      <td>1</td>\n",
       "      <td>0</td>\n",
       "      <td>1</td>\n",
       "    </tr>\n",
       "    <tr>\n",
       "      <th>2</th>\n",
       "      <td>27.81</td>\n",
       "      <td>0</td>\n",
       "      <td>2</td>\n",
       "      <td>0</td>\n",
       "      <td>2</td>\n",
       "    </tr>\n",
       "    <tr>\n",
       "      <th>3</th>\n",
       "      <td>27.54</td>\n",
       "      <td>0</td>\n",
       "      <td>3</td>\n",
       "      <td>0</td>\n",
       "      <td>3</td>\n",
       "    </tr>\n",
       "    <tr>\n",
       "      <th>4</th>\n",
       "      <td>25.04</td>\n",
       "      <td>0</td>\n",
       "      <td>4</td>\n",
       "      <td>0</td>\n",
       "      <td>4</td>\n",
       "    </tr>\n",
       "  </tbody>\n",
       "</table>\n",
       "</div>"
      ]
     },
     "execution_count": 33,
     "metadata": {},
     "output_type": "execute_result"
    }
   ],
   "execution_count": 33
  },
  {
   "metadata": {},
   "cell_type": "markdown",
   "source": "## Plot data",
   "id": "fb515a8aa51a2cb1"
  },
  {
   "metadata": {
    "ExecuteTime": {
     "end_time": "2025-01-09T21:17:26.331007Z",
     "start_time": "2025-01-09T21:17:26.186016Z"
    }
   },
   "cell_type": "code",
   "source": [
    "plt.figure(figsize=(15,5))\n",
    "plt.plot(df_price_preprocessed[\"dayofseries\"], df_price_preprocessed[\"price\"], label=\"True data\")\n",
    "plt.plot(df_price_generated_00257_preprocessed[\"dayofseries\"], df_price_generated_00257_preprocessed[\"price\"], label=\"Synthetic data\")\n",
    "plt.title('Price depending on time')\n",
    "plt.xlabel('Time (day)')\n",
    "plt.ylabel('Price')\n",
    "plt.legend()\n",
    "\n",
    "plt.show()"
   ],
   "id": "c5e7d94534d7e242",
   "outputs": [
    {
     "data": {
      "text/plain": [
       "<Figure size 1500x500 with 1 Axes>"
      ],
      "image/png": "[encoded data removed]"
     },
     "metadata": {},
     "output_type": "display_data"
    }
   ],
   "execution_count": 8
  },
  {
   "metadata": {},
   "cell_type": "markdown",
   "source": "## Feature Engineering",
   "id": "e6a705a91a4124f5"
  },
  {
   "metadata": {},
   "cell_type": "markdown",
   "source": "One example x is `[dayofweek, hourofday, dayofseries]` or another set of attributes and y is `price`",
   "id": "7fff02ec4e243a75"
  },
  {
   "metadata": {
    "ExecuteTime": {
     "end_time": "2025-01-09T21:17:26.380380Z",
     "start_time": "2025-01-09T21:17:26.364304Z"
    }
   },
   "cell_type": "code",
   "source": [
    "def get_x_y_point_by_point(df, x_keys: List[str], y_key: str):\n",
    "    X = df[x_keys]\n",
    "    y = df[y_key]\n",
    "    return X, y"
   ],
   "id": "db7591a8d2fc48b5",
   "outputs": [],
   "execution_count": 9
  },
  {
   "metadata": {},
   "cell_type": "markdown",
   "source": "One example x is a sequence of values of one attribute (e.g. x is `dayofseries_1, dayofseries_2, ..., dayofseries_5`) using a window and y is `price`",
   "id": "de5175e314be7cbe"
  },
  {
   "metadata": {
    "ExecuteTime": {
     "end_time": "2025-01-09T22:05:28.206507Z",
     "start_time": "2025-01-09T22:05:28.194505Z"
    }
   },
   "cell_type": "code",
   "source": [
    "def get_x_y_window(df, y_key: str, window_size: int, window_step: int, horizon: int):\n",
    "    X , y  = [], []\n",
    "    \n",
    "    for i in range(0, len(df[y_key]) - window_size - horizon, window_step):\n",
    "        X.append(df[y_key][i:i+window_size])\n",
    "        y.append(df[y_key][i+window_size:i+window_size+horizon])\n",
    "        \n",
    "    return X, y"
   ],
   "id": "95169155e14c3b5d",
   "outputs": [],
   "execution_count": 114
  },
  {
   "metadata": {},
   "cell_type": "markdown",
   "source": "## Train & Test Splits",
   "id": "669be87f4e01bd9d"
  },
  {
   "metadata": {
    "ExecuteTime": {
     "end_time": "2025-01-09T21:17:26.454081Z",
     "start_time": "2025-01-09T21:17:26.438199Z"
    }
   },
   "cell_type": "code",
   "source": [
    "def split_data(df, horizon):\n",
    "    train_df = df[:-horizon]\n",
    "    test_df = df[-horizon:]\n",
    "    return train_df, test_df"
   ],
   "id": "b092bef36a50715b",
   "outputs": [],
   "execution_count": 11
  },
  {
   "metadata": {},
   "cell_type": "markdown",
   "source": "## Training functions",
   "id": "477dc359919ae50a"
  },
  {
   "metadata": {
    "ExecuteTime": {
     "end_time": "2025-01-09T21:17:27.044814Z",
     "start_time": "2025-01-09T21:17:26.469573Z"
    }
   },
   "cell_type": "code",
   "outputs": [],
   "execution_count": 12,
   "source": [
    "def get_best_params(X_train, y_train):\n",
    "    xgb_model = xgb.XGBRegressor()\n",
    "    reg_cv = GridSearchCV(xgb_model, {'max_depth': [1,5,10], 'n_estimators': [50, 200, 500], 'learning_rate': [0.001, 0.01, 0.1]}, verbose=1)\n",
    "    reg_cv.fit(X_train, y_train)\n",
    "    return reg_cv.best_params_\n",
    "\n",
    "def train_model(X_train, y_train, params=None):\n",
    "    if params is None:\n",
    "        xgb_model = xgb.XGBRegressor()\n",
    "    else:\n",
    "        xgb_model = xgb.XGBRegressor(**params)\n",
    "    xgb_model.fit(X_train,y_train)\n",
    "    \n",
    "    return xgb_model\n",
    "\n",
    "def plot_predictions_vs_real(x_test, y_test, predictions):\n",
    "    x_test_total_hours = x_test[\"dayofseries\"]*24 + x_test[\"hourofday\"]\n",
    "    plt.scatter(x_test_total_hours, y_test, color = 'r', label=\"True\")\n",
    "    plt.scatter(x_test_total_hours, predictions, color = 'b', label=\"Prediction\")\n",
    "    plt.title('Real vs predicted prices depending on time')\n",
    "    plt.xlabel('Time (h)')\n",
    "    plt.ylabel('Price')\n",
    "    plt.legend()\n",
    "\n",
    "    plt.show()"
   ],
   "id": "9656af4587dfc189"
  },
  {
   "metadata": {},
   "cell_type": "markdown",
   "source": [
    "## Point by point\n",
    "\n",
    "### Without data augmentation\n",
    "\n",
    "#### Search hyper params"
   ],
   "id": "88eef679bb0d9ebc"
  },
  {
   "metadata": {
    "ExecuteTime": {
     "end_time": "2025-01-09T21:17:27.076292Z",
     "start_time": "2025-01-09T21:17:27.061096Z"
    }
   },
   "cell_type": "code",
   "source": [
    "train_data, test_data = split_data(df_price_preprocessed, 24)\n",
    "X_train, y_train = get_x_y_point_by_point(train_data, [\"dayofweek\", \"hourofday\", \"dayofseries\"], \"price\")\n",
    "X_test, y_test = get_x_y_point_by_point(test_data, [\"dayofweek\", \"hourofday\", \"dayofseries\"], \"price\")\n",
    "\n",
    "# params = get_best_params(X_train, y_train)\n",
    "params = {'learning_rate': 0.01, 'max_depth': 10, 'n_estimators': 200}"
   ],
   "id": "ffc3c0a5ee8b4899",
   "outputs": [],
   "execution_count": 13
  },
  {
   "metadata": {},
   "cell_type": "markdown",
   "source": "#### Train and eval",
   "id": "7ff1ab2c52a8f3dc"
  },
  {
   "metadata": {
    "ExecuteTime": {
     "end_time": "2025-01-09T21:17:27.760583Z",
     "start_time": "2025-01-09T21:17:27.092080Z"
    }
   },
   "cell_type": "code",
   "source": [
    "xgb_model = train_model(X_train, y_train, params)\n",
    "predictions = xgb_model.predict(X_test)\n",
    "print(\"MSE:\", mean_squared_error(y_test, predictions))\n",
    "plot_predictions_vs_real(X_test, y_test, predictions)"
   ],
   "id": "3bf7cf23e2aea1b",
   "outputs": [
    {
     "name": "stdout",
     "output_type": "stream",
     "text": [
      "MSE: 184.99076324861835\n"
     ]
    },
    {
     "data": {
      "text/plain": [
       "<Figure size 640x480 with 1 Axes>"
      ],
      "image/png": "[encoded data removed]"
     },
     "metadata": {},
     "output_type": "display_data"
    }
   ],
   "execution_count": 14
  },
  {
   "metadata": {},
   "cell_type": "markdown",
   "source": "### With provided data augmentation (synthetic data)",
   "id": "fd8e168263de2148"
  },
  {
   "metadata": {
    "ExecuteTime": {
     "end_time": "2025-01-09T21:18:12.275364Z",
     "start_time": "2025-01-09T21:18:12.262155Z"
    }
   },
   "cell_type": "code",
   "source": [
    "def load_synthetic_data_point_by_point(path):\n",
    "    X_train_all, y_train_all = [], []\n",
    "    for filename in tqdm(os.listdir(path)):\n",
    "        if filename.endswith(\".parquet\"):\n",
    "            df = pd.read_parquet(path + filename)\n",
    "            df_preprocessed = preprocess_synthetic_data(df)\n",
    "            X_train, y_train = get_x_y_point_by_point(df_preprocessed, [\"dayofweek\", \"hourofday\", \"dayofseries\", \"hoursofseries\"], \"price\")\n",
    "            \n",
    "            X_train_all.append(X_train)\n",
    "            y_train_all.append(y_train)\n",
    "    \n",
    "    X_train_all = pd.concat(X_train_all)\n",
    "    y_train_all = pd.concat(y_train_all)\n",
    "\n",
    "    return X_train_all, y_train_all"
   ],
   "id": "5f2fc55ac80ad8cf",
   "outputs": [],
   "execution_count": 17
  },
  {
   "metadata": {
    "ExecuteTime": {
     "end_time": "2025-01-09T21:24:47.807356Z",
     "start_time": "2025-01-09T21:24:47.759900Z"
    }
   },
   "cell_type": "code",
   "source": [
    "directory = \"../data/scenarios synthetiques/prix/\"\n",
    "X_train_synthetic, y_train_synthetic = load_synthetic_data_point_by_point(directory)\n",
    "X_train_all = pd.concat([X_train, X_train_synthetic])\n",
    "y_train_all = pd.concat([y_train, y_train_synthetic])"
   ],
   "id": "7f08aee0791833aa",
   "outputs": [],
   "execution_count": 22
  },
  {
   "metadata": {
    "ExecuteTime": {
     "end_time": "2025-01-09T21:25:30.257719Z",
     "start_time": "2025-01-09T21:24:50.560868Z"
    }
   },
   "cell_type": "code",
   "source": [
    "xgb_model = train_model(X_train_synthetic, y_train_synthetic, params)\n",
    "predictions = xgb_model.predict(X_test)\n",
    "print(\"MSE:\", mean_squared_error(y_test, predictions))\n",
    "plot_predictions_vs_real(X_test, y_test, predictions)"
   ],
   "id": "eb1b0c708824ba22",
   "outputs": [
    {
     "name": "stdout",
     "output_type": "stream",
     "text": [
      "MSE: 54.24183809150504\n"
     ]
    },
    {
     "data": {
      "text/plain": [
       "<Figure size 640x480 with 1 Axes>"
      ],
      "image/png": "[encoded data removed]"
     },
     "metadata": {},
     "output_type": "display_data"
    }
   ],
   "execution_count": 23
  },
  {
   "metadata": {},
   "cell_type": "markdown",
   "source": [
    "## Window\n",
    "\n",
    "### Without data augmentation\n",
    "\n",
    "#### Search hyper params"
   ],
   "id": "23b2808e4554b21c"
  },
  {
   "metadata": {
    "ExecuteTime": {
     "end_time": "2025-01-09T22:19:16.246216Z",
     "start_time": "2025-01-09T22:19:16.233036Z"
    }
   },
   "cell_type": "code",
   "source": [
    "def plot_predictions_vs_real_window(X_test, y_test, predictions):\n",
    "    plt.figure(figsize=(15,5))\n",
    "\n",
    "    y_true = np.concat([X_test[0], y_test[0]])\n",
    "    x_true = np.arange(0, len(y_true))\n",
    "    \n",
    "    y_preds = predictions[0]\n",
    "    x_preds = np.arange(len(X_test[0]), len(X_test[0])+len(y_preds))\n",
    "    \n",
    "    plt.scatter(x_true, y_true, color = 'r', label=\"True\")\n",
    "    plt.scatter(x_preds, predictions, color = 'b', label=\"Prediction\")\n",
    "    plt.title('Real vs predicted prices depending on time')\n",
    "    plt.xlabel('Time (h)')\n",
    "    plt.ylabel('Price')\n",
    "    plt.legend()\n",
    "\n",
    "    plt.show()"
   ],
   "id": "44162355e0d4b080",
   "outputs": [],
   "execution_count": 152
  },
  {
   "metadata": {
    "ExecuteTime": {
     "end_time": "2025-01-09T22:06:50.330668Z",
     "start_time": "2025-01-09T22:06:50.081620Z"
    }
   },
   "cell_type": "code",
   "source": [
    "train_data, test_data = split_data(df_price_preprocessed, 24+12+12)\n",
    "X_train, y_train = get_x_y_window(train_data, \"price\", 24, 12, 12)\n",
    "X_test, y_test = get_x_y_window(test_data, \"price\", 24, 12, 12)\n",
    "# params = get_best_params(X_train, y_train)"
   ],
   "id": "1d32ce05a432f52e",
   "outputs": [],
   "execution_count": 121
  },
  {
   "metadata": {},
   "cell_type": "markdown",
   "source": "#### Train and eval",
   "id": "e6146e6c51f94ccd"
  },
  {
   "metadata": {
    "ExecuteTime": {
     "end_time": "2025-01-09T22:19:46.544600Z",
     "start_time": "2025-01-09T22:19:29.724658Z"
    }
   },
   "cell_type": "code",
   "source": [
    "xgb_model = train_model(X_train, y_train, params)\n",
    "predictions = xgb_model.predict(X_test)\n",
    "print(\"MSE:\", mean_squared_error(y_test, predictions))"
   ],
   "id": "f1d51aed4bb8b974",
   "outputs": [
    {
     "name": "stdout",
     "output_type": "stream",
     "text": [
      "MSE: 24.766885680771406\n"
     ]
    }
   ],
   "execution_count": 154
  },
  {
   "metadata": {
    "ExecuteTime": {
     "end_time": "2025-01-09T22:19:46.672536Z",
     "start_time": "2025-01-09T22:19:46.553606Z"
    }
   },
   "cell_type": "code",
   "source": "plot_predictions_vs_real_window(X_test, y_test, predictions)",
   "id": "6c50c955afafd2c3",
   "outputs": [
    {
     "data": {
      "text/plain": [
       "<Figure size 1500x500 with 1 Axes>"
      ],
      "image/png": "[encoded data removed]"
     },
     "metadata": {},
     "output_type": "display_data"
    }
   ],
   "execution_count": 155
  },
  {
   "metadata": {},
   "cell_type": "markdown",
   "source": "### With provided data augmentation (synthetic data)",
   "id": "bf0fd3314058fb6d"
  },
  {
   "metadata": {
    "ExecuteTime": {
     "end_time": "2025-01-09T22:33:06.005584Z",
     "start_time": "2025-01-09T22:33:05.997376Z"
    }
   },
   "cell_type": "code",
   "source": [
    "def load_synthetic_data_window(path):\n",
    "    X_train_all, y_train_all = [], []\n",
    "    i = 2\n",
    "    for filename in tqdm(os.listdir(path)):\n",
    "        if filename.endswith(\".parquet\"):\n",
    "            df = pd.read_parquet(path + filename)\n",
    "            df_preprocessed = preprocess_synthetic_data(df)\n",
    "            \n",
    "            X_train, y_train = get_x_y_window(df_preprocessed, \"price\", 24, 12, 12)\n",
    "            \n",
    "            X_train_all.extend(X_train)\n",
    "            y_train_all.extend(y_train)\n",
    "\n",
    "    return X_train_all, y_train_all"
   ],
   "id": "ef4e336a72cc47f9",
   "outputs": [],
   "execution_count": 178
  },
  {
   "metadata": {
    "ExecuteTime": {
     "end_time": "2025-01-09T22:38:14.245854Z",
     "start_time": "2025-01-09T22:33:07.147564Z"
    }
   },
   "cell_type": "code",
   "source": [
    "directory = \"../data/scenarios synthetiques/prix/\"\n",
    "X_train_synthetic, y_train_synthetic = load_synthetic_data_window(directory)\n",
    "X_train_all = X_train + X_train_synthetic\n",
    "y_train_all = y_train + y_train_synthetic"
   ],
   "id": "a12a86cebbafe25e",
   "outputs": [
    {
     "name": "stderr",
     "output_type": "stream",
     "text": [
      "100%|██████████| 154/154 [05:07<00:00,  1.99s/it]\n"
     ]
    }
   ],
   "execution_count": 179
  },
  {
   "metadata": {
    "ExecuteTime": {
     "end_time": "2025-01-09T22:39:50.958254Z",
     "start_time": "2025-01-09T22:38:14.270972Z"
    }
   },
   "cell_type": "code",
   "source": [
    "xgb_model = train_model(X_train_synthetic, y_train_synthetic, params)\n",
    "predictions = xgb_model.predict(X_test)\n",
    "print(\"MSE:\", mean_squared_error(y_test, predictions))"
   ],
   "id": "e5d24f3d80e19f6",
   "outputs": [
    {
     "name": "stdout",
     "output_type": "stream",
     "text": [
      "MSE: 49.19285038997316\n"
     ]
    }
   ],
   "execution_count": 180
  },
  {
   "metadata": {
    "ExecuteTime": {
     "end_time": "2025-01-09T22:39:51.123060Z",
     "start_time": "2025-01-09T22:39:51.018419Z"
    }
   },
   "cell_type": "code",
   "source": "plot_predictions_vs_real_window(X_test, y_test, predictions)",
   "id": "5a3784140079d45",
   "outputs": [
    {
     "data": {
      "text/plain": [
       "<Figure size 1500x500 with 1 Axes>"
      ],
      "image/png": "[encoded data removed]"
     },
     "metadata": {},
     "output_type": "display_data"
    }
   ],
   "execution_count": 181
  },
  {
   "metadata": {},
   "cell_type": "markdown",
   "source": " TODO: check https://www.kaggle.com/code/iamleonie/intro-to-time-series-forecasting#Feature-Engineering",
   "id": "3bef9d9b2b3f23a"
  }
 ],
 "metadata": {
  "kernelspec": {
   "display_name": "Python 3",
   "language": "python",
   "name": "python3"
  },
  "language_info": {
   "codemirror_mode": {
    "name": "ipython",
    "version": 2
   },
   "file_extension": ".py",
   "mimetype": "text/x-python",
   "name": "python",
   "nbconvert_exporter": "python",
   "pygments_lexer": "ipython2",
   "version": "2.7.6"
  }
 },
 "nbformat": 4,
 "nbformat_minor": 5
}
