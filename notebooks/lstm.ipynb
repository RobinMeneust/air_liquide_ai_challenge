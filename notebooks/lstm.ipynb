{
 "cells": [
  {
   "cell_type": "markdown",
   "id": "f098efd9c848e438",
   "metadata": {},
   "source": [
    "# LSTM"
   ]
  },
  {
   "cell_type": "markdown",
   "id": "6d91bf3fc53c2e75",
   "metadata": {},
   "source": [
    "## Read data"
   ]
  },
  {
   "cell_type": "code",
   "execution_count": 1,
   "id": "initial_id",
   "metadata": {
    "ExecuteTime": {
     "end_time": "2025-01-09T22:11:34.708895Z",
     "start_time": "2025-01-09T22:11:34.699383Z"
    },
    "collapsed": true
   },
   "outputs": [
    {
     "name": "stdout",
     "output_type": "stream",
     "text": [
      "import error: No module named 'triton'\n"
     ]
    },
    {
     "name": "stderr",
     "output_type": "stream",
     "text": [
      "d:\\Programs\\Anaconda\\envs\\air_liquide_ai_challenge\\lib\\site-packages\\tqdm\\auto.py:21: TqdmWarning: IProgress not found. Please update jupyter and ipywidgets. See https://ipywidgets.readthedocs.io/en/stable/user_install.html\n",
      "  from .autonotebook import tqdm as notebook_tqdm\n"
     ]
    }
   ],
   "source": [
    "import os\n",
    "\n",
    "import pandas as pd\n",
    "from tqdm import tqdm\n",
    "import matplotlib.pyplot as plt\n",
    "import torch.nn as nn\n",
    "from torch.optim import Adam\n",
    "from torch.utils.data import Subset\n",
    "import torch\n",
    "from torchtune.datasets import ConcatDataset\n",
    "import optuna\n",
    "\n",
    "from electricity_price_forecast.dataset import DatasetWithWindow\n",
    "\n",
    "VAL_RATIO = 0.2\n",
    "TESTED_HORIZONS = [6, 12, 24, 48, 72, 168]\n",
    "\n",
    "df_price = pd.read_parquet(\"../data/donnees historiques/prix/hourly_day_ahead_prices_2017_2020.parquet\").reset_index()\n",
    "df_price_generated_00257 = pd.read_parquet(\"../data/scenarios synthetiques/prix/00257.parquet\")"
   ]
  },
  {
   "cell_type": "code",
   "execution_count": 2,
   "id": "e9fa8021e20d5e65",
   "metadata": {
    "ExecuteTime": {
     "end_time": "2025-01-09T21:17:23.757117Z",
     "start_time": "2025-01-09T21:17:23.730921Z"
    }
   },
   "outputs": [
    {
     "name": "stdout",
     "output_type": "stream",
     "text": [
      "0\n",
      "35063\n"
     ]
    },
    {
     "data": {
      "text/html": [
       "<div>\n",
       "<style scoped>\n",
       "    .dataframe tbody tr th:only-of-type {\n",
       "        vertical-align: middle;\n",
       "    }\n",
       "\n",
       "    .dataframe tbody tr th {\n",
       "        vertical-align: top;\n",
       "    }\n",
       "\n",
       "    .dataframe thead th {\n",
       "        text-align: right;\n",
       "    }\n",
       "</style>\n",
       "<table border=\"1\" class=\"dataframe\">\n",
       "  <thead>\n",
       "    <tr style=\"text-align: right;\">\n",
       "      <th></th>\n",
       "      <th>date</th>\n",
       "      <th>price</th>\n",
       "    </tr>\n",
       "  </thead>\n",
       "  <tbody>\n",
       "    <tr>\n",
       "      <th>0</th>\n",
       "      <td>2016-12-31 23:00:00+00:00</td>\n",
       "      <td>58.82</td>\n",
       "    </tr>\n",
       "    <tr>\n",
       "      <th>1</th>\n",
       "      <td>2017-01-01 00:00:00+00:00</td>\n",
       "      <td>58.23</td>\n",
       "    </tr>\n",
       "    <tr>\n",
       "      <th>2</th>\n",
       "      <td>2017-01-01 01:00:00+00:00</td>\n",
       "      <td>51.95</td>\n",
       "    </tr>\n",
       "    <tr>\n",
       "      <th>3</th>\n",
       "      <td>2017-01-01 02:00:00+00:00</td>\n",
       "      <td>47.27</td>\n",
       "    </tr>\n",
       "    <tr>\n",
       "      <th>4</th>\n",
       "      <td>2017-01-01 03:00:00+00:00</td>\n",
       "      <td>45.49</td>\n",
       "    </tr>\n",
       "  </tbody>\n",
       "</table>\n",
       "</div>"
      ],
      "text/plain": [
       "                       date  price\n",
       "0 2016-12-31 23:00:00+00:00  58.82\n",
       "1 2017-01-01 00:00:00+00:00  58.23\n",
       "2 2017-01-01 01:00:00+00:00  51.95\n",
       "3 2017-01-01 02:00:00+00:00  47.27\n",
       "4 2017-01-01 03:00:00+00:00  45.49"
      ]
     },
     "execution_count": 2,
     "metadata": {},
     "output_type": "execute_result"
    }
   ],
   "source": [
    "print(df_price.index.min())\n",
    "print(df_price.index.max())\n",
    "df_price.head()"
   ]
  },
  {
   "cell_type": "code",
   "execution_count": 3,
   "id": "dfe6f45090e420a8",
   "metadata": {
    "ExecuteTime": {
     "end_time": "2025-01-09T21:17:23.929692Z",
     "start_time": "2025-01-09T21:17:23.921366Z"
    }
   },
   "outputs": [
    {
     "name": "stdout",
     "output_type": "stream",
     "text": [
      "0\n",
      "6\n"
     ]
    },
    {
     "data": {
      "text/html": [
       "<div>\n",
       "<style scoped>\n",
       "    .dataframe tbody tr th:only-of-type {\n",
       "        vertical-align: middle;\n",
       "    }\n",
       "\n",
       "    .dataframe tbody tr th {\n",
       "        vertical-align: top;\n",
       "    }\n",
       "\n",
       "    .dataframe thead th {\n",
       "        text-align: right;\n",
       "    }\n",
       "</style>\n",
       "<table border=\"1\" class=\"dataframe\">\n",
       "  <thead>\n",
       "    <tr style=\"text-align: right;\">\n",
       "      <th></th>\n",
       "      <th>price</th>\n",
       "      <th>dayofweek</th>\n",
       "      <th>hourofday</th>\n",
       "    </tr>\n",
       "  </thead>\n",
       "  <tbody>\n",
       "    <tr>\n",
       "      <th>0</th>\n",
       "      <td>31.66</td>\n",
       "      <td>0</td>\n",
       "      <td>0</td>\n",
       "    </tr>\n",
       "    <tr>\n",
       "      <th>1</th>\n",
       "      <td>31.06</td>\n",
       "      <td>0</td>\n",
       "      <td>1</td>\n",
       "    </tr>\n",
       "    <tr>\n",
       "      <th>2</th>\n",
       "      <td>27.81</td>\n",
       "      <td>0</td>\n",
       "      <td>2</td>\n",
       "    </tr>\n",
       "    <tr>\n",
       "      <th>3</th>\n",
       "      <td>27.54</td>\n",
       "      <td>0</td>\n",
       "      <td>3</td>\n",
       "    </tr>\n",
       "    <tr>\n",
       "      <th>4</th>\n",
       "      <td>25.04</td>\n",
       "      <td>0</td>\n",
       "      <td>4</td>\n",
       "    </tr>\n",
       "  </tbody>\n",
       "</table>\n",
       "</div>"
      ],
      "text/plain": [
       "   price  dayofweek  hourofday\n",
       "0  31.66          0          0\n",
       "1  31.06          0          1\n",
       "2  27.81          0          2\n",
       "3  27.54          0          3\n",
       "4  25.04          0          4"
      ]
     },
     "execution_count": 3,
     "metadata": {},
     "output_type": "execute_result"
    }
   ],
   "source": [
    "print(df_price_generated_00257[\"dayofweek\"].min())\n",
    "print(df_price_generated_00257[\"dayofweek\"].max())\n",
    "df_price_generated_00257.head()"
   ]
  },
  {
   "cell_type": "markdown",
   "id": "a877f53ab1e9b236",
   "metadata": {},
   "source": [
    "## Preprocess data"
   ]
  },
  {
   "cell_type": "code",
   "execution_count": 4,
   "id": "798792fc08e5a160",
   "metadata": {
    "ExecuteTime": {
     "end_time": "2025-01-09T21:30:36.596832Z",
     "start_time": "2025-01-09T21:30:36.586519Z"
    }
   },
   "outputs": [],
   "source": [
    "def preprocess_true_data(df):\n",
    "    reference_date = pd.to_datetime(\"2016-12-31 00:00:00+00:00\")\n",
    "    new_df = df.copy()\n",
    "    new_df['dayofweek'] = new_df['date'].dt.dayofweek\n",
    "    new_df['hourofday'] = new_df['date'].dt.hour\n",
    "    new_df['dayofyear'] = new_df['date'].dt.dayofyear\n",
    "    new_df[\"dayofseries\"] = (new_df[\"date\"] - reference_date).dt.days\n",
    "    new_df[\"hoursofseries\"] = new_df[\"dayofseries\"]*24 + new_df[\"hourofday\"]\n",
    "    return new_df"
   ]
  },
  {
   "cell_type": "code",
   "execution_count": 5,
   "id": "1f0417d47b9de1d0",
   "metadata": {
    "ExecuteTime": {
     "end_time": "2025-01-09T21:30:39.425795Z",
     "start_time": "2025-01-09T21:30:39.405420Z"
    }
   },
   "outputs": [
    {
     "data": {
      "text/html": [
       "<div>\n",
       "<style scoped>\n",
       "    .dataframe tbody tr th:only-of-type {\n",
       "        vertical-align: middle;\n",
       "    }\n",
       "\n",
       "    .dataframe tbody tr th {\n",
       "        vertical-align: top;\n",
       "    }\n",
       "\n",
       "    .dataframe thead th {\n",
       "        text-align: right;\n",
       "    }\n",
       "</style>\n",
       "<table border=\"1\" class=\"dataframe\">\n",
       "  <thead>\n",
       "    <tr style=\"text-align: right;\">\n",
       "      <th></th>\n",
       "      <th>date</th>\n",
       "      <th>price</th>\n",
       "      <th>dayofweek</th>\n",
       "      <th>hourofday</th>\n",
       "      <th>dayofyear</th>\n",
       "      <th>dayofseries</th>\n",
       "      <th>hoursofseries</th>\n",
       "    </tr>\n",
       "  </thead>\n",
       "  <tbody>\n",
       "    <tr>\n",
       "      <th>0</th>\n",
       "      <td>2016-12-31 23:00:00+00:00</td>\n",
       "      <td>58.82</td>\n",
       "      <td>5</td>\n",
       "      <td>23</td>\n",
       "      <td>366</td>\n",
       "      <td>0</td>\n",
       "      <td>23</td>\n",
       "    </tr>\n",
       "    <tr>\n",
       "      <th>1</th>\n",
       "      <td>2017-01-01 00:00:00+00:00</td>\n",
       "      <td>58.23</td>\n",
       "      <td>6</td>\n",
       "      <td>0</td>\n",
       "      <td>1</td>\n",
       "      <td>1</td>\n",
       "      <td>24</td>\n",
       "    </tr>\n",
       "    <tr>\n",
       "      <th>2</th>\n",
       "      <td>2017-01-01 01:00:00+00:00</td>\n",
       "      <td>51.95</td>\n",
       "      <td>6</td>\n",
       "      <td>1</td>\n",
       "      <td>1</td>\n",
       "      <td>1</td>\n",
       "      <td>25</td>\n",
       "    </tr>\n",
       "    <tr>\n",
       "      <th>3</th>\n",
       "      <td>2017-01-01 02:00:00+00:00</td>\n",
       "      <td>47.27</td>\n",
       "      <td>6</td>\n",
       "      <td>2</td>\n",
       "      <td>1</td>\n",
       "      <td>1</td>\n",
       "      <td>26</td>\n",
       "    </tr>\n",
       "    <tr>\n",
       "      <th>4</th>\n",
       "      <td>2017-01-01 03:00:00+00:00</td>\n",
       "      <td>45.49</td>\n",
       "      <td>6</td>\n",
       "      <td>3</td>\n",
       "      <td>1</td>\n",
       "      <td>1</td>\n",
       "      <td>27</td>\n",
       "    </tr>\n",
       "  </tbody>\n",
       "</table>\n",
       "</div>"
      ],
      "text/plain": [
       "                       date  price  dayofweek  hourofday  dayofyear  \\\n",
       "0 2016-12-31 23:00:00+00:00  58.82          5         23        366   \n",
       "1 2017-01-01 00:00:00+00:00  58.23          6          0          1   \n",
       "2 2017-01-01 01:00:00+00:00  51.95          6          1          1   \n",
       "3 2017-01-01 02:00:00+00:00  47.27          6          2          1   \n",
       "4 2017-01-01 03:00:00+00:00  45.49          6          3          1   \n",
       "\n",
       "   dayofseries  hoursofseries  \n",
       "0            0             23  \n",
       "1            1             24  \n",
       "2            1             25  \n",
       "3            1             26  \n",
       "4            1             27  "
      ]
     },
     "execution_count": 5,
     "metadata": {},
     "output_type": "execute_result"
    }
   ],
   "source": [
    "df_price_preprocessed = preprocess_true_data(df_price)\n",
    "df_price_preprocessed.head()"
   ]
  },
  {
   "cell_type": "code",
   "execution_count": 6,
   "id": "49c0607038083925",
   "metadata": {
    "ExecuteTime": {
     "end_time": "2025-01-09T21:30:40.925833Z",
     "start_time": "2025-01-09T21:30:40.911621Z"
    }
   },
   "outputs": [],
   "source": [
    "def preprocess_synthetic_data(df):\n",
    "    new_df = df.copy()\n",
    "    new_df['dayofseries'] = 0\n",
    "    \n",
    "    day = -1\n",
    "    for i in range(0, len(new_df)):\n",
    "        if i % 24 == 0:\n",
    "            day += 1\n",
    "        new_df.loc[i, 'dayofseries'] = day\n",
    "    \n",
    "    new_df[\"hoursofseries\"] = new_df[\"dayofseries\"]*24 + new_df[\"hourofday\"]\n",
    "    return new_df"
   ]
  },
  {
   "cell_type": "code",
   "execution_count": 7,
   "id": "3d931d2f756e89ca",
   "metadata": {
    "ExecuteTime": {
     "end_time": "2025-01-09T21:30:43.997088Z",
     "start_time": "2025-01-09T21:30:42.065844Z"
    }
   },
   "outputs": [
    {
     "data": {
      "text/html": [
       "<div>\n",
       "<style scoped>\n",
       "    .dataframe tbody tr th:only-of-type {\n",
       "        vertical-align: middle;\n",
       "    }\n",
       "\n",
       "    .dataframe tbody tr th {\n",
       "        vertical-align: top;\n",
       "    }\n",
       "\n",
       "    .dataframe thead th {\n",
       "        text-align: right;\n",
       "    }\n",
       "</style>\n",
       "<table border=\"1\" class=\"dataframe\">\n",
       "  <thead>\n",
       "    <tr style=\"text-align: right;\">\n",
       "      <th></th>\n",
       "      <th>price</th>\n",
       "      <th>dayofweek</th>\n",
       "      <th>hourofday</th>\n",
       "      <th>dayofseries</th>\n",
       "      <th>hoursofseries</th>\n",
       "    </tr>\n",
       "  </thead>\n",
       "  <tbody>\n",
       "    <tr>\n",
       "      <th>0</th>\n",
       "      <td>31.66</td>\n",
       "      <td>0</td>\n",
       "      <td>0</td>\n",
       "      <td>0</td>\n",
       "      <td>0</td>\n",
       "    </tr>\n",
       "    <tr>\n",
       "      <th>1</th>\n",
       "      <td>31.06</td>\n",
       "      <td>0</td>\n",
       "      <td>1</td>\n",
       "      <td>0</td>\n",
       "      <td>1</td>\n",
       "    </tr>\n",
       "    <tr>\n",
       "      <th>2</th>\n",
       "      <td>27.81</td>\n",
       "      <td>0</td>\n",
       "      <td>2</td>\n",
       "      <td>0</td>\n",
       "      <td>2</td>\n",
       "    </tr>\n",
       "    <tr>\n",
       "      <th>3</th>\n",
       "      <td>27.54</td>\n",
       "      <td>0</td>\n",
       "      <td>3</td>\n",
       "      <td>0</td>\n",
       "      <td>3</td>\n",
       "    </tr>\n",
       "    <tr>\n",
       "      <th>4</th>\n",
       "      <td>25.04</td>\n",
       "      <td>0</td>\n",
       "      <td>4</td>\n",
       "      <td>0</td>\n",
       "      <td>4</td>\n",
       "    </tr>\n",
       "  </tbody>\n",
       "</table>\n",
       "</div>"
      ],
      "text/plain": [
       "   price  dayofweek  hourofday  dayofseries  hoursofseries\n",
       "0  31.66          0          0            0              0\n",
       "1  31.06          0          1            0              1\n",
       "2  27.81          0          2            0              2\n",
       "3  27.54          0          3            0              3\n",
       "4  25.04          0          4            0              4"
      ]
     },
     "execution_count": 7,
     "metadata": {},
     "output_type": "execute_result"
    }
   ],
   "source": [
    "df_price_generated_00257_preprocessed = preprocess_synthetic_data(df_price_generated_00257)\n",
    "df_price_generated_00257_preprocessed.head()"
   ]
  },
  {
   "cell_type": "markdown",
   "id": "fb515a8aa51a2cb1",
   "metadata": {},
   "source": [
    "## Plot data"
   ]
  },
  {
   "cell_type": "code",
   "execution_count": 8,
   "id": "c5e7d94534d7e242",
   "metadata": {
    "ExecuteTime": {
     "end_time": "2025-01-09T21:17:26.331007Z",
     "start_time": "2025-01-09T21:17:26.186016Z"
    }
   },
   "outputs": [
    {
     "data": {
      "image/png": "[encoded data removed]",
      "text/plain": [
       "<Figure size 1500x500 with 1 Axes>"
      ]
     },
     "metadata": {},
     "output_type": "display_data"
    }
   ],
   "source": [
    "plt.figure(figsize=(15,5))\n",
    "plt.plot(df_price_preprocessed[\"dayofseries\"], df_price_preprocessed[\"price\"], label=\"True data\")\n",
    "plt.plot(df_price_generated_00257_preprocessed[\"dayofseries\"], df_price_generated_00257_preprocessed[\"price\"], label=\"Synthetic data\")\n",
    "plt.title('Price depending on time')\n",
    "plt.xlabel('Time (day)')\n",
    "plt.ylabel('Price')\n",
    "plt.legend()\n",
    "\n",
    "plt.show()"
   ]
  },
  {
   "cell_type": "markdown",
   "id": "477dc359919ae50a",
   "metadata": {},
   "source": [
    "## Training functions"
   ]
  },
  {
   "cell_type": "code",
   "execution_count": 17,
   "id": "9656af4587dfc189",
   "metadata": {
    "ExecuteTime": {
     "end_time": "2025-01-09T21:17:27.044814Z",
     "start_time": "2025-01-09T21:17:26.469573Z"
    }
   },
   "outputs": [],
   "source": [
    "class LSTMModel(nn.Module):\n",
    "    def __init__(self, input_dim, output_dim, hidden_dim, n_layers):\n",
    "        super().__init__()\n",
    "        # batch_first is True because we have the shape (batch_size, ...) https://pytorch.org/docs/stable/generated/torch.nn.LSTM.html\n",
    "        self._lstm = nn.LSTM(input_size=input_dim, hidden_size=hidden_dim, num_layers=n_layers, batch_first=True)\n",
    "        self._linear = nn.Linear(hidden_dim, output_dim)\n",
    "    def forward(self, x):\n",
    "        x, _ = self._lstm(x)\n",
    "        x = self._linear(x)\n",
    "        return x\n",
    "\n",
    "def get_best_params(train_dataloader, val_dataloader, n_trials=50):\n",
    "    study = optuna.create_study(direction=\"minimize\")\n",
    "    study.optimize(lambda trial: train_model(\n",
    "        train_dataloader,\n",
    "        val_dataloader,\n",
    "        lr=trial.suggest_float(\"lr\", 1e-5, 1e-1),\n",
    "        n_epochs=50,\n",
    "        hidden_size=trial.suggest_int(\"hidden_size\", 16, 512),\n",
    "        n_layers=trial.suggest_int(\"n_layers\", 1, 10),\n",
    "    )[1][\"val_loss\"], n_trials=n_trials)\n",
    "    return study.best_params\n",
    "\n",
    "def train_model(train_dataloader, val_dataloader, lr=0.001, n_epochs=50, hidden_size=32, n_layers=1, device=\"cuda\"):\n",
    "    X_batch, y_batch = next(iter(train_dataloader))\n",
    "    input_dim = X_batch.shape[-1]\n",
    "    output_dim = 1\n",
    "    \n",
    "    model = LSTMModel(input_dim, output_dim, hidden_size, n_layers).to(device)\n",
    "    loss_function = nn.MSELoss()\n",
    "    optimizer = Adam(model.parameters(), lr=lr)\n",
    "    \n",
    "    avg_val_loss = None\n",
    "    \n",
    "    with tqdm(range(1, n_epochs+1)) as pbar:\n",
    "        for _ in pbar:\n",
    "            avg_loss = 0\n",
    "            \n",
    "            for X_batch, y_batch in train_dataloader:\n",
    "                model.train()\n",
    "                y_pred = model(X_batch)\n",
    "                loss = loss_function(y_pred, y_batch)\n",
    "                avg_loss += loss.item()\n",
    "                optimizer.zero_grad()\n",
    "                loss.backward()\n",
    "                optimizer.step()\n",
    "                \n",
    "            avg_loss /= len(train_dataloader)\n",
    "            \n",
    "            model.eval()\n",
    "            avg_val_loss = 0\n",
    "            for X_batch, y_batch in val_dataloader:\n",
    "                y_pred = model(X_batch)\n",
    "                loss = loss_function(y_pred, y_batch)\n",
    "                avg_val_loss += loss.item()\n",
    "                \n",
    "            avg_val_loss /= len(val_dataloader)\n",
    "            pbar.set_description(f\"Train loss: {avg_loss:.3f}. Val loss: {avg_val_loss:.3f}\")\n",
    "            \n",
    "    return model, {\"val_loss\": avg_val_loss, \"train_loss\": avg_loss}\n",
    "\n",
    "def test_model(predictions, ground_truth):\n",
    "    mse_function = nn.MSELoss()\n",
    "        \n",
    "    return {\n",
    "        \"mse\": mse_function(predictions, ground_truth).item(),\n",
    "        \"mae\": torch.mean(torch.abs(predictions - ground_truth)).item(),\n",
    "        \"rmse\": torch.sqrt(torch.mean((predictions - ground_truth)**2)).item()\n",
    "    }\n",
    "\n",
    "def predict(model, dataloader):\n",
    "    predictions = []\n",
    "    ground_truth = []\n",
    "    model.eval()\n",
    "    \n",
    "    with torch.no_grad():\n",
    "        for X, y in tqdm(dataloader):\n",
    "            y_pred = model(X)\n",
    "            predictions.append(y_pred)\n",
    "            ground_truth.append(y)\n",
    "    \n",
    "    predictions = torch.cat(predictions).squeeze()\n",
    "    ground_truth = torch.cat(ground_truth).squeeze()\n",
    "    \n",
    "    return predictions, ground_truth\n",
    "        \n",
    "\n",
    "def plot_predictions_vs_real(test_dataset, predictions):\n",
    "    n_before = 10\n",
    "    x_values, ground_truth = test_dataset.get_ground_truth(len(test_dataset) - len(predictions) - 1 - n_before, len(test_dataset) - 1)\n",
    "    \n",
    "    print(x_values.shape, ground_truth.shape)\n",
    "    \n",
    "    x_values_pred = x_values[n_before:]\n",
    "    \n",
    "    print(x_values_pred.shape, predictions.shape, ground_truth.shape)\n",
    "    \n",
    "    plt.plot(x_values, ground_truth, color = 'r', label=\"True\", marker='o')\n",
    "    plt.plot(x_values_pred, predictions, color = 'b', label=\"Prediction\", marker='x')\n",
    "    plt.title('Real vs predicted prices depending on time')\n",
    "    plt.xlabel('Time (h)')\n",
    "    plt.ylabel('Price')\n",
    "    plt.legend()\n",
    "\n",
    "    plt.show()"
   ]
  },
  {
   "cell_type": "markdown",
   "id": "88eef679bb0d9ebc",
   "metadata": {},
   "source": [
    "## Without data augmentation"
   ]
  },
  {
   "cell_type": "code",
   "execution_count": 23,
   "id": "ffc3c0a5ee8b4899",
   "metadata": {
    "ExecuteTime": {
     "end_time": "2025-01-09T21:17:27.076292Z",
     "start_time": "2025-01-09T21:17:27.061096Z"
    }
   },
   "outputs": [],
   "source": [
    "window_size = 24\n",
    "window_step = 12\n",
    "horizon = 24\n",
    "test_size = TESTED_HORIZONS[-1] + window_size # to have enough data to predict the last horizon (168 h)\n",
    "dataset = DatasetWithWindow(df_price_preprocessed, window_size, window_step, horizon, [\"dayofweek\", \"hourofday\", \"dayofseries\", \"price\"], \"price\")\n",
    "\n",
    "# splits\n",
    "def get_splits(dataset, test_size, val_ratio):\n",
    "    train_split_size = len(dataset) - test_size\n",
    "\n",
    "    val_split_size = int(train_split_size * val_ratio)\n",
    "    train_split_size -= val_split_size\n",
    "\n",
    "    test_start_idx = train_split_size + val_split_size\n",
    "\n",
    "    train_indices = range(train_split_size)\n",
    "    val_indices = range(train_split_size, test_start_idx)\n",
    "    test_indices = range(test_start_idx, len(dataset))\n",
    "\n",
    "    train_split = Subset(dataset, train_indices)\n",
    "    \n",
    "    if val_ratio == 0:\n",
    "        val_split = None\n",
    "    else:\n",
    "        val_split = Subset(dataset, val_indices)\n",
    "    \n",
    "    if test_size == 0:\n",
    "        test_split = None\n",
    "    else:\n",
    "        test_split = Subset(dataset, test_indices)\n",
    "    \n",
    "    return train_split, val_split, test_split\n",
    "\n",
    "train_split, val_split, test_split = get_splits(dataset, test_size, VAL_RATIO)\n",
    "\n",
    "# from datasets to dataloaders\n",
    "train_dataloader = torch.utils.data.DataLoader(train_split, batch_size = 256, shuffle = False)\n",
    "val_dataloader = torch.utils.data.DataLoader(val_split, batch_size = 256, shuffle = False)\n",
    "test_dataloader = torch.utils.data.DataLoader(test_split, batch_size = 256, shuffle = False)"
   ]
  },
  {
   "cell_type": "code",
   "execution_count": 11,
   "id": "b841108c",
   "metadata": {},
   "outputs": [
    {
     "name": "stdout",
     "output_type": "stream",
     "text": [
      "torch.Size([256, 24, 4])\n",
      "torch.Size([256, 24, 1])\n"
     ]
    }
   ],
   "source": [
    "# get first item in datalaoder\n",
    "X_batch, y_batch = next(iter(train_dataloader))\n",
    "print(X_batch.shape)\n",
    "print(y_batch.shape)"
   ]
  },
  {
   "cell_type": "markdown",
   "id": "d087758a",
   "metadata": {},
   "source": [
    "#### Find best params"
   ]
  },
  {
   "cell_type": "code",
   "execution_count": 18,
   "id": "c5c77836",
   "metadata": {},
   "outputs": [
    {
     "name": "stderr",
     "output_type": "stream",
     "text": [
      "[I 2025-01-20 18:54:05,223] A new study created in memory with name: no-name-d3f2cd2e-70da-47b4-a477-79394be3db15\n",
      "Train loss: 331.176. Val loss: 436.993: 100%|██████████| 50/50 [00:02<00:00, 17.86it/s]\n",
      "[I 2025-01-20 18:54:08,033] Trial 0 finished with value: 436.9925231933594 and parameters: {'lr': 0.030010282574511885, 'hidden_size': 52, 'n_layers': 8}. Best is trial 0 with value: 436.9925231933594.\n",
      "Train loss: 368.921. Val loss: 479.972: 100%|██████████| 50/50 [00:20<00:00,  2.46it/s]\n",
      "[I 2025-01-20 18:54:28,374] Trial 1 finished with value: 479.9723205566406 and parameters: {'lr': 0.0879488784340102, 'hidden_size': 441, 'n_layers': 6}. Best is trial 0 with value: 436.9925231933594.\n",
      "Train loss: 332.593. Val loss: 438.585: 100%|██████████| 50/50 [00:27<00:00,  1.83it/s]\n",
      "[I 2025-01-20 18:54:55,725] Trial 2 finished with value: 438.58461507161456 and parameters: {'lr': 0.00596629660450269, 'hidden_size': 432, 'n_layers': 9}. Best is trial 0 with value: 436.9925231933594.\n",
      "Train loss: 335.253. Val loss: 441.317: 100%|██████████| 50/50 [00:14<00:00,  3.51it/s]\n",
      "[I 2025-01-20 18:55:09,994] Trial 3 finished with value: 441.3165995279948 and parameters: {'lr': 0.023450664516212905, 'hidden_size': 324, 'n_layers': 7}. Best is trial 0 with value: 436.9925231933594.\n",
      "Train loss: 374.170. Val loss: 486.476: 100%|██████████| 50/50 [00:11<00:00,  4.49it/s]\n",
      "[I 2025-01-20 18:55:21,147] Trial 4 finished with value: 486.4757588704427 and parameters: {'lr': 0.0875937495570207, 'hidden_size': 455, 'n_layers': 3}. Best is trial 0 with value: 436.9925231933594.\n",
      "Train loss: 355.746. Val loss: 464.724: 100%|██████████| 50/50 [00:32<00:00,  1.53it/s]\n",
      "[I 2025-01-20 18:55:53,888] Trial 5 finished with value: 464.72430419921875 and parameters: {'lr': 0.06630864782994864, 'hidden_size': 418, 'n_layers': 10}. Best is trial 0 with value: 436.9925231933594.\n",
      "Train loss: 344.266. Val loss: 450.030: 100%|██████████| 50/50 [01:04<00:00,  1.30s/it]\n",
      "[I 2025-01-20 18:56:58,816] Trial 6 finished with value: 450.02976481119794 and parameters: {'lr': 0.09572335694387094, 'hidden_size': 172, 'n_layers': 10}. Best is trial 0 with value: 436.9925231933594.\n",
      "Train loss: 349.449. Val loss: 456.108: 100%|██████████| 50/50 [00:04<00:00, 10.05it/s]\n",
      "[I 2025-01-20 18:57:03,801] Trial 7 finished with value: 456.1080017089844 and parameters: {'lr': 0.056795224731776395, 'hidden_size': 343, 'n_layers': 2}. Best is trial 0 with value: 436.9925231933594.\n",
      "Train loss: 331.432. Val loss: 436.659: 100%|██████████| 50/50 [00:09<00:00,  5.11it/s]\n",
      "[I 2025-01-20 18:57:13,607] Trial 8 finished with value: 436.65907796223956 and parameters: {'lr': 0.0052738948423144884, 'hidden_size': 212, 'n_layers': 9}. Best is trial 8 with value: 436.65907796223956.\n",
      "Train loss: 333.648. Val loss: 439.756: 100%|██████████| 50/50 [00:10<00:00,  4.74it/s]\n",
      "[I 2025-01-20 18:57:24,173] Trial 9 finished with value: 439.7560526529948 and parameters: {'lr': 0.01114845116361115, 'hidden_size': 318, 'n_layers': 5}. Best is trial 8 with value: 436.65907796223956.\n",
      "Train loss: 337.717. Val loss: 442.583: 100%|██████████| 50/50 [00:26<00:00,  1.86it/s]\n",
      "[I 2025-01-20 18:57:51,091] Trial 10 finished with value: 442.58289591471356 and parameters: {'lr': 0.0409739243574578, 'hidden_size': 169, 'n_layers': 4}. Best is trial 8 with value: 436.65907796223956.\n",
      "Train loss: 331.659. Val loss: 436.315: 100%|██████████| 50/50 [00:02<00:00, 19.17it/s]\n",
      "[I 2025-01-20 18:57:53,713] Trial 11 finished with value: 436.31488037109375 and parameters: {'lr': 0.029988067453735966, 'hidden_size': 17, 'n_layers': 8}. Best is trial 11 with value: 436.31488037109375.\n",
      "Train loss: 544.662. Val loss: 349.361: 100%|██████████| 50/50 [00:02<00:00, 19.24it/s] \n",
      "[I 2025-01-20 18:57:56,326] Trial 12 finished with value: 349.36118570963544 and parameters: {'lr': 0.0023473744815622724, 'hidden_size': 32, 'n_layers': 8}. Best is trial 12 with value: 349.36118570963544.\n",
      "Train loss: 331.829. Val loss: 436.414: 100%|██████████| 50/50 [00:02<00:00, 22.77it/s]\n",
      "[I 2025-01-20 18:57:58,534] Trial 13 finished with value: 436.41358439127606 and parameters: {'lr': 0.023621652784024876, 'hidden_size': 21, 'n_layers': 7}. Best is trial 12 with value: 349.36118570963544.\n",
      "Train loss: 334.939. Val loss: 439.592: 100%|██████████| 50/50 [00:03<00:00, 14.34it/s]\n",
      "[I 2025-01-20 18:58:02,036] Trial 14 finished with value: 439.59226481119794 and parameters: {'lr': 0.04116471614271569, 'hidden_size': 87, 'n_layers': 7}. Best is trial 12 with value: 349.36118570963544.\n",
      "Train loss: 1160.488. Val loss: 673.494: 100%|██████████| 50/50 [00:07<00:00,  7.02it/s] \n",
      "[I 2025-01-20 18:58:09,172] Trial 15 finished with value: 673.4936726888021 and parameters: {'lr': 0.0002050142537259798, 'hidden_size': 110, 'n_layers': 8}. Best is trial 12 with value: 349.36118570963544.\n",
      "Train loss: 332.013. Val loss: 437.513: 100%|██████████| 50/50 [00:04<00:00, 10.34it/s]\n",
      "[I 2025-01-20 18:58:14,026] Trial 16 finished with value: 437.51319376627606 and parameters: {'lr': 0.01699207829087011, 'hidden_size': 126, 'n_layers': 5}. Best is trial 12 with value: 349.36118570963544.\n",
      "Train loss: 331.391. Val loss: 436.774: 100%|██████████| 50/50 [00:02<00:00, 19.95it/s]\n",
      "[I 2025-01-20 18:58:16,546] Trial 17 finished with value: 436.7742207845052 and parameters: {'lr': 0.03864813440139011, 'hidden_size': 32, 'n_layers': 8}. Best is trial 12 with value: 349.36118570963544.\n",
      "Train loss: 255.029. Val loss: 383.242: 100%|██████████| 50/50 [00:02<00:00, 20.48it/s]\n",
      "[I 2025-01-20 18:58:18,998] Trial 18 finished with value: 383.2420654296875 and parameters: {'lr': 0.06602584541917748, 'hidden_size': 251, 'n_layers': 1}. Best is trial 12 with value: 349.36118570963544.\n",
      "Train loss: 256.401. Val loss: 364.169: 100%|██████████| 50/50 [00:02<00:00, 18.35it/s]\n",
      "[I 2025-01-20 18:58:21,736] Trial 19 finished with value: 364.16919962565106 and parameters: {'lr': 0.06781048434394364, 'hidden_size': 249, 'n_layers': 1}. Best is trial 12 with value: 349.36118570963544.\n",
      "Train loss: 285.044. Val loss: 390.184: 100%|██████████| 50/50 [00:04<00:00, 11.51it/s]\n",
      "[I 2025-01-20 18:58:26,096] Trial 20 finished with value: 390.1836446126302 and parameters: {'lr': 0.07159361103789118, 'hidden_size': 506, 'n_layers': 1}. Best is trial 12 with value: 349.36118570963544.\n",
      "Train loss: 306.953. Val loss: 441.809: 100%|██████████| 50/50 [00:02<00:00, 20.11it/s]\n",
      "[I 2025-01-20 18:58:28,594] Trial 21 finished with value: 441.80931599934894 and parameters: {'lr': 0.07102893760996408, 'hidden_size': 251, 'n_layers': 1}. Best is trial 12 with value: 349.36118570963544.\n",
      "Train loss: 346.747. Val loss: 452.894: 100%|██████████| 50/50 [00:03<00:00, 12.82it/s]\n",
      "[I 2025-01-20 18:58:32,510] Trial 22 finished with value: 452.89447021484375 and parameters: {'lr': 0.059857015171900584, 'hidden_size': 267, 'n_layers': 2}. Best is trial 12 with value: 349.36118570963544.\n",
      "Train loss: 352.678. Val loss: 460.007: 100%|██████████| 50/50 [00:05<00:00,  8.48it/s]\n",
      "[I 2025-01-20 18:58:38,427] Trial 23 finished with value: 460.00677490234375 and parameters: {'lr': 0.0773664019901567, 'hidden_size': 285, 'n_layers': 3}. Best is trial 12 with value: 349.36118570963544.\n",
      "Train loss: 347.777. Val loss: 454.113: 100%|██████████| 50/50 [00:05<00:00,  9.52it/s]\n",
      "[I 2025-01-20 18:58:43,702] Trial 24 finished with value: 454.1128845214844 and parameters: {'lr': 0.05148387729230024, 'hidden_size': 373, 'n_layers': 2}. Best is trial 12 with value: 349.36118570963544.\n",
      "Train loss: 302.707. Val loss: 428.734: 100%|██████████| 50/50 [00:02<00:00, 22.21it/s]\n",
      "[I 2025-01-20 18:58:45,967] Trial 25 finished with value: 428.7343037923177 and parameters: {'lr': 0.08112410275705752, 'hidden_size': 223, 'n_layers': 1}. Best is trial 12 with value: 349.36118570963544.\n",
      "Train loss: 338.559. Val loss: 443.492: 100%|██████████| 50/50 [00:20<00:00,  2.39it/s]\n",
      "[I 2025-01-20 18:59:06,902] Trial 26 finished with value: 443.4915262858073 and parameters: {'lr': 0.05019839665495845, 'hidden_size': 176, 'n_layers': 3}. Best is trial 12 with value: 349.36118570963544.\n",
      "Train loss: 352.620. Val loss: 459.924: 100%|██████████| 50/50 [00:10<00:00,  4.81it/s]\n",
      "[I 2025-01-20 18:59:17,334] Trial 27 finished with value: 459.92392985026044 and parameters: {'lr': 0.06261509408767318, 'hidden_size': 370, 'n_layers': 4}. Best is trial 12 with value: 349.36118570963544.\n",
      "Train loss: 350.325. Val loss: 457.192: 100%|██████████| 50/50 [00:08<00:00,  6.12it/s]\n",
      "[I 2025-01-20 18:59:25,524] Trial 28 finished with value: 457.19202677408856 and parameters: {'lr': 0.09927603957970077, 'hidden_size': 221, 'n_layers': 6}. Best is trial 12 with value: 349.36118570963544.\n",
      "Train loss: 335.212. Val loss: 439.913: 100%|██████████| 50/50 [00:02<00:00, 20.02it/s]\n",
      "[I 2025-01-20 18:59:28,037] Trial 29 finished with value: 439.9131266276042 and parameters: {'lr': 0.07861992656787486, 'hidden_size': 67, 'n_layers': 4}. Best is trial 12 with value: 349.36118570963544.\n",
      "Train loss: 338.130. Val loss: 443.065: 100%|██████████| 50/50 [00:10<00:00,  4.64it/s]\n",
      "[I 2025-01-20 18:59:38,828] Trial 30 finished with value: 443.0654296875 and parameters: {'lr': 0.055215920078199546, 'hidden_size': 151, 'n_layers': 2}. Best is trial 12 with value: 349.36118570963544.\n",
      "Train loss: 313.925. Val loss: 478.347: 100%|██████████| 50/50 [00:04<00:00, 11.13it/s]\n",
      "[I 2025-01-20 18:59:43,338] Trial 31 finished with value: 478.34682210286456 and parameters: {'lr': 0.07052271257939065, 'hidden_size': 497, 'n_layers': 1}. Best is trial 12 with value: 349.36118570963544.\n",
      "Train loss: 316.995. Val loss: 467.725: 100%|██████████| 50/50 [00:04<00:00, 11.56it/s]\n",
      "[I 2025-01-20 18:59:47,679] Trial 32 finished with value: 467.72450764973956 and parameters: {'lr': 0.0726408971883491, 'hidden_size': 506, 'n_layers': 1}. Best is trial 12 with value: 349.36118570963544.\n",
      "Train loss: 319.249. Val loss: 457.185: 100%|██████████| 50/50 [00:02<00:00, 19.09it/s]\n",
      "[I 2025-01-20 18:59:50,312] Trial 33 finished with value: 457.18479410807294 and parameters: {'lr': 0.08727582612862798, 'hidden_size': 293, 'n_layers': 1}. Best is trial 12 with value: 349.36118570963544.\n",
      "Train loss: 345.511. Val loss: 451.476: 100%|██████████| 50/50 [00:03<00:00, 15.56it/s]\n",
      "[I 2025-01-20 18:59:53,542] Trial 34 finished with value: 451.4762268066406 and parameters: {'lr': 0.06524295262992426, 'hidden_size': 244, 'n_layers': 2}. Best is trial 12 with value: 349.36118570963544.\n",
      "Train loss: 347.644. Val loss: 453.943: 100%|██████████| 50/50 [00:09<00:00,  5.52it/s]\n",
      "[I 2025-01-20 19:00:02,635] Trial 35 finished with value: 453.9428304036458 and parameters: {'lr': 0.04462927600708244, 'hidden_size': 402, 'n_layers': 3}. Best is trial 12 with value: 349.36118570963544.\n",
      "Train loss: 305.602. Val loss: 497.524: 100%|██████████| 50/50 [00:04<00:00, 12.24it/s]\n",
      "[I 2025-01-20 19:00:06,736] Trial 36 finished with value: 497.5242207845052 and parameters: {'lr': 0.08294150321672253, 'hidden_size': 465, 'n_layers': 1}. Best is trial 12 with value: 349.36118570963544.\n",
      "Train loss: 351.663. Val loss: 458.787: 100%|██████████| 50/50 [00:12<00:00,  4.09it/s]\n",
      "[I 2025-01-20 19:00:19,006] Trial 37 finished with value: 458.7866923014323 and parameters: {'lr': 0.07334559223731298, 'hidden_size': 314, 'n_layers': 6}. Best is trial 12 with value: 349.36118570963544.\n",
      "Train loss: 342.424. Val loss: 447.875: 100%|██████████| 50/50 [00:09<00:00,  5.28it/s]\n",
      "[I 2025-01-20 19:00:28,496] Trial 38 finished with value: 447.87457275390625 and parameters: {'lr': 0.06680867487113794, 'hidden_size': 200, 'n_layers': 9}. Best is trial 12 with value: 349.36118570963544.\n",
      "Train loss: 348.588. Val loss: 455.076: 100%|██████████| 50/50 [00:04<00:00, 10.77it/s]\n",
      "[I 2025-01-20 19:00:33,156] Trial 39 finished with value: 455.0758361816406 and parameters: {'lr': 0.058106047146868886, 'hidden_size': 364, 'n_layers': 2}. Best is trial 12 with value: 349.36118570963544.\n",
      "Train loss: 340.872. Val loss: 446.130: 100%|██████████| 50/50 [00:03<00:00, 16.08it/s]\n",
      "[I 2025-01-20 19:00:36,280] Trial 40 finished with value: 446.1300048828125 and parameters: {'lr': 0.08775548193560484, 'hidden_size': 126, 'n_layers': 3}. Best is trial 12 with value: 349.36118570963544.\n",
      "Train loss: 307.929. Val loss: 445.978: 100%|██████████| 50/50 [00:02<00:00, 21.05it/s]\n",
      "[I 2025-01-20 19:00:38,671] Trial 41 finished with value: 445.9776204427083 and parameters: {'lr': 0.08069509882961523, 'hidden_size': 231, 'n_layers': 1}. Best is trial 12 with value: 349.36118570963544.\n",
      "Train loss: 323.533. Val loss: 454.795: 100%|██████████| 50/50 [00:02<00:00, 21.50it/s]\n",
      "[I 2025-01-20 19:00:41,010] Trial 42 finished with value: 454.7954813639323 and parameters: {'lr': 0.09294481933200617, 'hidden_size': 276, 'n_layers': 1}. Best is trial 12 with value: 349.36118570963544.\n",
      "Train loss: 341.987. Val loss: 447.387: 100%|██████████| 50/50 [00:03<00:00, 14.70it/s]\n",
      "[I 2025-01-20 19:00:44,428] Trial 43 finished with value: 447.3874003092448 and parameters: {'lr': 0.07605484694425764, 'hidden_size': 199, 'n_layers': 2}. Best is trial 12 with value: 349.36118570963544.\n",
      "Train loss: 261.705. Val loss: 377.178: 100%|██████████| 50/50 [00:02<00:00, 18.01it/s]\n",
      "[I 2025-01-20 19:00:47,220] Trial 44 finished with value: 377.1780090332031 and parameters: {'lr': 0.06738156918218485, 'hidden_size': 331, 'n_layers': 1}. Best is trial 12 with value: 349.36118570963544.\n",
      "Train loss: 357.635. Val loss: 466.080: 100%|██████████| 50/50 [00:30<00:00,  1.66it/s]\n",
      "[I 2025-01-20 19:01:17,366] Trial 45 finished with value: 466.07972208658856 and parameters: {'lr': 0.06766961394072167, 'hidden_size': 402, 'n_layers': 10}. Best is trial 12 with value: 349.36118570963544.\n",
      "Train loss: 353.125. Val loss: 460.573: 100%|██████████| 50/50 [00:06<00:00,  7.81it/s]\n",
      "[I 2025-01-20 19:01:23,787] Trial 46 finished with value: 460.5729675292969 and parameters: {'lr': 0.054418768073954085, 'hidden_size': 430, 'n_layers': 2}. Best is trial 12 with value: 349.36118570963544.\n",
      "Train loss: 321.961. Val loss: 459.900: 100%|██████████| 50/50 [00:04<00:00, 12.38it/s]\n",
      "[I 2025-01-20 19:01:27,845] Trial 47 finished with value: 459.8997395833333 and parameters: {'lr': 0.06178463763269818, 'hidden_size': 472, 'n_layers': 1}. Best is trial 12 with value: 349.36118570963544.\n",
      "Train loss: 338.384. Val loss: 443.275: 100%|██████████| 50/50 [00:17<00:00,  2.78it/s]\n",
      "[I 2025-01-20 19:01:45,878] Trial 48 finished with value: 443.2747395833333 and parameters: {'lr': 0.0274164714431683, 'hidden_size': 328, 'n_layers': 9}. Best is trial 12 with value: 349.36118570963544.\n",
      "Train loss: 334.158. Val loss: 438.752: 100%|██████████| 50/50 [00:01<00:00, 25.79it/s]\n",
      "[I 2025-01-20 19:01:47,833] Trial 49 finished with value: 438.7521464029948 and parameters: {'lr': 0.043951504116581115, 'hidden_size': 61, 'n_layers': 3}. Best is trial 12 with value: 349.36118570963544.\n"
     ]
    }
   ],
   "source": [
    "best_params = get_best_params(train_dataloader, val_dataloader, n_trials=50)"
   ]
  },
  {
   "cell_type": "code",
   "execution_count": 24,
   "id": "d040691b",
   "metadata": {},
   "outputs": [
    {
     "data": {
      "text/plain": [
       "{'lr': 0.0023473744815622724, 'hidden_size': 32, 'n_layers': 8}"
      ]
     },
     "execution_count": 24,
     "metadata": {},
     "output_type": "execute_result"
    }
   ],
   "source": [
    "# best_params = {'lr': 0.092, 'hidden_size': 282, 'n_layers': 2}\n",
    "best_params"
   ]
  },
  {
   "cell_type": "markdown",
   "id": "7ff1ab2c52a8f3dc",
   "metadata": {},
   "source": [
    "#### Train and eval"
   ]
  },
  {
   "cell_type": "code",
   "execution_count": 25,
   "id": "3bf7cf23e2aea1b",
   "metadata": {
    "ExecuteTime": {
     "end_time": "2025-01-09T21:17:27.760583Z",
     "start_time": "2025-01-09T21:17:27.092080Z"
    }
   },
   "outputs": [
    {
     "name": "stderr",
     "output_type": "stream",
     "text": [
      "Train loss: 532.160. Val loss: 345.902: 100%|██████████| 50/50 [00:02<00:00, 19.86it/s] \n"
     ]
    }
   ],
   "source": [
    "model, _ = train_model(train_dataloader, val_dataloader, n_epochs=50, **best_params)"
   ]
  },
  {
   "cell_type": "code",
   "execution_count": 27,
   "id": "2919fa05",
   "metadata": {},
   "outputs": [
    {
     "name": "stderr",
     "output_type": "stream",
     "text": [
      "100%|██████████| 1/1 [00:00<00:00, 333.41it/s]"
     ]
    },
    {
     "name": "stdout",
     "output_type": "stream",
     "text": [
      "Results: {'mse': 380.5494689941406, 'mae': 15.174267768859863, 'rmse': 19.50767707824707}\n",
      "(34,) (34,)\n",
      "(24,) (24,) (34,)\n"
     ]
    },
    {
     "name": "stderr",
     "output_type": "stream",
     "text": [
      "\n"
     ]
    },
    {
     "data": {
      "image/png": "[encoded data removed]",
      "text/plain": [
       "<Figure size 640x480 with 1 Axes>"
      ]
     },
     "metadata": {},
     "output_type": "display_data"
    }
   ],
   "source": [
    "predictions, ground_truth = predict(model, test_dataloader)\n",
    "results = test_model(predictions, ground_truth)\n",
    "print(\"Results:\", results)\n",
    "\n",
    "# take last window ([-1, :])\n",
    "predictions = predictions.cpu().numpy()[-1, :]\n",
    "\n",
    "plot_predictions_vs_real(test_split.dataset, predictions)"
   ]
  },
  {
   "cell_type": "markdown",
   "id": "fd8e168263de2148",
   "metadata": {},
   "source": [
    "### With provided data augmentation (synthetic data)"
   ]
  },
  {
   "cell_type": "code",
   "execution_count": 30,
   "id": "5f2fc55ac80ad8cf",
   "metadata": {
    "ExecuteTime": {
     "end_time": "2025-01-09T21:18:12.275364Z",
     "start_time": "2025-01-09T21:18:12.262155Z"
    }
   },
   "outputs": [],
   "source": [
    "def load_synthetic_datasets(path, max_num_fetched=None):\n",
    "    if max_num_fetched is not None and max_num_fetched < 0:\n",
    "        max_num_fetched = None\n",
    "    train_all = []\n",
    "    \n",
    "    i = 0\n",
    "    for filename in tqdm(os.listdir(path)):\n",
    "        if max_num_fetched is not None and i >= max_num_fetched:\n",
    "            break\n",
    "        i += 1\n",
    "        if filename.endswith(\".parquet\"):\n",
    "            df = pd.read_parquet(path + filename)\n",
    "            df_preprocessed = preprocess_synthetic_data(df)\n",
    "            train_all.append(DatasetWithWindow(df_preprocessed, 24, 12, 24, [\"dayofweek\", \"hourofday\", \"dayofseries\", \"price\"], \"price\"))\n",
    "    \n",
    "    return train_all"
   ]
  },
  {
   "cell_type": "code",
   "execution_count": 31,
   "id": "7f08aee0791833aa",
   "metadata": {
    "ExecuteTime": {
     "end_time": "2025-01-09T21:24:47.807356Z",
     "start_time": "2025-01-09T21:24:47.759900Z"
    }
   },
   "outputs": [
    {
     "name": "stderr",
     "output_type": "stream",
     "text": [
      "  3%|▎         | 5/154 [00:09<04:48,  1.94s/it]\n"
     ]
    }
   ],
   "source": [
    "directory = \"../data/scenarios synthetiques/prix/\"\n",
    "train_all = load_synthetic_datasets(directory, 5)"
   ]
  },
  {
   "cell_type": "code",
   "execution_count": 32,
   "id": "0b93015a",
   "metadata": {},
   "outputs": [],
   "source": [
    "train_concat = ConcatDataset(train_all)\n",
    "\n",
    "train_split_size = int(len(train_concat)*(1-VAL_RATIO))\n",
    "val_split_size = len(train_concat) - train_split_size\n",
    "\n",
    "train_split, val_split, _ = get_splits(train_concat, 0, VAL_RATIO)\n",
    "\n",
    "# test_split is the same (we don't want to test on synthetic data)\n",
    "\n",
    "train_split, val_split = torch.utils.data.random_split(train_concat, [train_split_size, val_split_size])\n",
    "train_dataloader = torch.utils.data.DataLoader(train_split, batch_size = 256, shuffle = False)\n",
    "val_dataloader = torch.utils.data.DataLoader(val_split, batch_size = 256, shuffle = False)"
   ]
  },
  {
   "cell_type": "code",
   "execution_count": 33,
   "id": "eb1b0c708824ba22",
   "metadata": {
    "ExecuteTime": {
     "end_time": "2025-01-09T21:25:30.257719Z",
     "start_time": "2025-01-09T21:24:50.560868Z"
    }
   },
   "outputs": [
    {
     "name": "stderr",
     "output_type": "stream",
     "text": [
      "Train loss: 148.666. Val loss: 152.906: 100%|██████████| 50/50 [00:08<00:00,  5.85it/s]\n"
     ]
    }
   ],
   "source": [
    "model, _ = train_model(train_dataloader, val_dataloader, lr=0.05, n_epochs=50)"
   ]
  },
  {
   "cell_type": "code",
   "execution_count": 34,
   "id": "4d30bdc0",
   "metadata": {},
   "outputs": [
    {
     "name": "stderr",
     "output_type": "stream",
     "text": [
      "100%|██████████| 1/1 [00:00<00:00, 332.75it/s]"
     ]
    },
    {
     "name": "stdout",
     "output_type": "stream",
     "text": [
      "Results: {'mse': 138.76174926757812, 'mae': 8.645071983337402, 'rmse': 11.779717445373535}\n",
      "(34,) (34,)\n",
      "(24,) (24,) (34,)\n"
     ]
    },
    {
     "name": "stderr",
     "output_type": "stream",
     "text": [
      "\n"
     ]
    },
    {
     "data": {
      "image/png": "[encoded data removed]",
      "text/plain": [
       "<Figure size 640x480 with 1 Axes>"
      ]
     },
     "metadata": {},
     "output_type": "display_data"
    }
   ],
   "source": [
    "predictions, ground_truth = predict(model, test_dataloader)\n",
    "results = test_model(predictions, ground_truth)\n",
    "print(\"Results:\", results)\n",
    "\n",
    "# take last window ([-1, :])\n",
    "predictions = predictions.cpu().numpy()[-1, :]\n",
    "\n",
    "plot_predictions_vs_real(test_split.dataset, predictions)"
   ]
  },
  {
   "cell_type": "code",
   "execution_count": null,
   "id": "eb10ba2e",
   "metadata": {},
   "outputs": [],
   "source": []
  }
 ],
 "metadata": {
  "kernelspec": {
   "display_name": "Python 3",
   "language": "python",
   "name": "python3"
  },
  "language_info": {
   "codemirror_mode": {
    "name": "ipython",
    "version": 3
   },
   "file_extension": ".py",
   "mimetype": "text/x-python",
   "name": "python",
   "nbconvert_exporter": "python",
   "pygments_lexer": "ipython3",
   "version": "3.10.16"
  }
 },
 "nbformat": 4,
 "nbformat_minor": 5
}
