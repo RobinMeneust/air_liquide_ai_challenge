{
 "cells": [
  {
   "cell_type": "markdown",
   "id": "f098efd9c848e438",
   "metadata": {},
   "source": [
    "# LSTM"
   ]
  },
  {
   "cell_type": "markdown",
   "id": "6d91bf3fc53c2e75",
   "metadata": {},
   "source": [
    "## Read data"
   ]
  },
  {
   "cell_type": "code",
   "execution_count": 203,
   "id": "initial_id",
   "metadata": {
    "ExecuteTime": {
     "end_time": "2025-01-09T22:11:34.708895Z",
     "start_time": "2025-01-09T22:11:34.699383Z"
    },
    "collapsed": true
   },
   "outputs": [],
   "source": [
    "import os\n",
    "\n",
    "import numpy as np\n",
    "import pandas as pd\n",
    "from tqdm import tqdm\n",
    "import matplotlib.pyplot as plt\n",
    "import xgboost as xgb\n",
    "from sklearn.model_selection import GridSearchCV\n",
    "from sklearn.metrics import mean_squared_error\n",
    "from typing import List\n",
    "import torch.nn as nn\n",
    "from torch.optim import Adam\n",
    "from torch.utils.data import DataLoader, Dataset\n",
    "import torch\n",
    "from torchtune.datasets import ConcatDataset\n",
    "\n",
    "df_price = pd.read_parquet(\"../data/donnees historiques/prix/hourly_day_ahead_prices_2017_2020.parquet\").reset_index()\n",
    "df_price_generated_00257 = pd.read_parquet(\"../data/scenarios synthetiques/prix/00257.parquet\")"
   ]
  },
  {
   "cell_type": "code",
   "execution_count": 169,
   "id": "e9fa8021e20d5e65",
   "metadata": {
    "ExecuteTime": {
     "end_time": "2025-01-09T21:17:23.757117Z",
     "start_time": "2025-01-09T21:17:23.730921Z"
    }
   },
   "outputs": [
    {
     "name": "stdout",
     "output_type": "stream",
     "text": [
      "0\n",
      "35063\n"
     ]
    },
    {
     "data": {
      "text/html": [
       "<div>\n",
       "<style scoped>\n",
       "    .dataframe tbody tr th:only-of-type {\n",
       "        vertical-align: middle;\n",
       "    }\n",
       "\n",
       "    .dataframe tbody tr th {\n",
       "        vertical-align: top;\n",
       "    }\n",
       "\n",
       "    .dataframe thead th {\n",
       "        text-align: right;\n",
       "    }\n",
       "</style>\n",
       "<table border=\"1\" class=\"dataframe\">\n",
       "  <thead>\n",
       "    <tr style=\"text-align: right;\">\n",
       "      <th></th>\n",
       "      <th>date</th>\n",
       "      <th>price</th>\n",
       "    </tr>\n",
       "  </thead>\n",
       "  <tbody>\n",
       "    <tr>\n",
       "      <th>0</th>\n",
       "      <td>2016-12-31 23:00:00+00:00</td>\n",
       "      <td>58.82</td>\n",
       "    </tr>\n",
       "    <tr>\n",
       "      <th>1</th>\n",
       "      <td>2017-01-01 00:00:00+00:00</td>\n",
       "      <td>58.23</td>\n",
       "    </tr>\n",
       "    <tr>\n",
       "      <th>2</th>\n",
       "      <td>2017-01-01 01:00:00+00:00</td>\n",
       "      <td>51.95</td>\n",
       "    </tr>\n",
       "    <tr>\n",
       "      <th>3</th>\n",
       "      <td>2017-01-01 02:00:00+00:00</td>\n",
       "      <td>47.27</td>\n",
       "    </tr>\n",
       "    <tr>\n",
       "      <th>4</th>\n",
       "      <td>2017-01-01 03:00:00+00:00</td>\n",
       "      <td>45.49</td>\n",
       "    </tr>\n",
       "  </tbody>\n",
       "</table>\n",
       "</div>"
      ],
      "text/plain": [
       "                       date  price\n",
       "0 2016-12-31 23:00:00+00:00  58.82\n",
       "1 2017-01-01 00:00:00+00:00  58.23\n",
       "2 2017-01-01 01:00:00+00:00  51.95\n",
       "3 2017-01-01 02:00:00+00:00  47.27\n",
       "4 2017-01-01 03:00:00+00:00  45.49"
      ]
     },
     "execution_count": 169,
     "metadata": {},
     "output_type": "execute_result"
    }
   ],
   "source": [
    "print(df_price.index.min())\n",
    "print(df_price.index.max())\n",
    "df_price.head()"
   ]
  },
  {
   "cell_type": "code",
   "execution_count": 170,
   "id": "dfe6f45090e420a8",
   "metadata": {
    "ExecuteTime": {
     "end_time": "2025-01-09T21:17:23.929692Z",
     "start_time": "2025-01-09T21:17:23.921366Z"
    }
   },
   "outputs": [
    {
     "name": "stdout",
     "output_type": "stream",
     "text": [
      "0\n",
      "6\n"
     ]
    },
    {
     "data": {
      "text/html": [
       "<div>\n",
       "<style scoped>\n",
       "    .dataframe tbody tr th:only-of-type {\n",
       "        vertical-align: middle;\n",
       "    }\n",
       "\n",
       "    .dataframe tbody tr th {\n",
       "        vertical-align: top;\n",
       "    }\n",
       "\n",
       "    .dataframe thead th {\n",
       "        text-align: right;\n",
       "    }\n",
       "</style>\n",
       "<table border=\"1\" class=\"dataframe\">\n",
       "  <thead>\n",
       "    <tr style=\"text-align: right;\">\n",
       "      <th></th>\n",
       "      <th>price</th>\n",
       "      <th>dayofweek</th>\n",
       "      <th>hourofday</th>\n",
       "    </tr>\n",
       "  </thead>\n",
       "  <tbody>\n",
       "    <tr>\n",
       "      <th>0</th>\n",
       "      <td>31.66</td>\n",
       "      <td>0</td>\n",
       "      <td>0</td>\n",
       "    </tr>\n",
       "    <tr>\n",
       "      <th>1</th>\n",
       "      <td>31.06</td>\n",
       "      <td>0</td>\n",
       "      <td>1</td>\n",
       "    </tr>\n",
       "    <tr>\n",
       "      <th>2</th>\n",
       "      <td>27.81</td>\n",
       "      <td>0</td>\n",
       "      <td>2</td>\n",
       "    </tr>\n",
       "    <tr>\n",
       "      <th>3</th>\n",
       "      <td>27.54</td>\n",
       "      <td>0</td>\n",
       "      <td>3</td>\n",
       "    </tr>\n",
       "    <tr>\n",
       "      <th>4</th>\n",
       "      <td>25.04</td>\n",
       "      <td>0</td>\n",
       "      <td>4</td>\n",
       "    </tr>\n",
       "  </tbody>\n",
       "</table>\n",
       "</div>"
      ],
      "text/plain": [
       "   price  dayofweek  hourofday\n",
       "0  31.66          0          0\n",
       "1  31.06          0          1\n",
       "2  27.81          0          2\n",
       "3  27.54          0          3\n",
       "4  25.04          0          4"
      ]
     },
     "execution_count": 170,
     "metadata": {},
     "output_type": "execute_result"
    }
   ],
   "source": [
    "print(df_price_generated_00257[\"dayofweek\"].min())\n",
    "print(df_price_generated_00257[\"dayofweek\"].max())\n",
    "df_price_generated_00257.head()"
   ]
  },
  {
   "cell_type": "markdown",
   "id": "a877f53ab1e9b236",
   "metadata": {},
   "source": [
    "## Preprocess data"
   ]
  },
  {
   "cell_type": "code",
   "execution_count": 171,
   "id": "798792fc08e5a160",
   "metadata": {
    "ExecuteTime": {
     "end_time": "2025-01-09T21:30:36.596832Z",
     "start_time": "2025-01-09T21:30:36.586519Z"
    }
   },
   "outputs": [],
   "source": [
    "def preprocess_true_data(df):\n",
    "    # df['date'] = pd.to_datetime(df['date'])\n",
    "    new_df = df.copy()\n",
    "    new_df['dayofweek'] = new_df['date'].dt.dayofweek\n",
    "    new_df['hourofday'] = new_df['date'].dt.hour\n",
    "    new_df['dayofyear'] = new_df['date'].dt.dayofyear\n",
    "    new_df[\"dayofseries\"] = (new_df[\"date\"] - new_df[\"date\"].min()).dt.days\n",
    "    new_df[\"hoursofseries\"] = new_df[\"dayofseries\"]*24 + new_df[\"hourofday\"]\n",
    "    \n",
    "    return new_df"
   ]
  },
  {
   "cell_type": "code",
   "execution_count": 172,
   "id": "1f0417d47b9de1d0",
   "metadata": {
    "ExecuteTime": {
     "end_time": "2025-01-09T21:30:39.425795Z",
     "start_time": "2025-01-09T21:30:39.405420Z"
    }
   },
   "outputs": [
    {
     "data": {
      "text/html": [
       "<div>\n",
       "<style scoped>\n",
       "    .dataframe tbody tr th:only-of-type {\n",
       "        vertical-align: middle;\n",
       "    }\n",
       "\n",
       "    .dataframe tbody tr th {\n",
       "        vertical-align: top;\n",
       "    }\n",
       "\n",
       "    .dataframe thead th {\n",
       "        text-align: right;\n",
       "    }\n",
       "</style>\n",
       "<table border=\"1\" class=\"dataframe\">\n",
       "  <thead>\n",
       "    <tr style=\"text-align: right;\">\n",
       "      <th></th>\n",
       "      <th>date</th>\n",
       "      <th>price</th>\n",
       "      <th>dayofweek</th>\n",
       "      <th>hourofday</th>\n",
       "      <th>dayofyear</th>\n",
       "      <th>dayofseries</th>\n",
       "      <th>hoursofseries</th>\n",
       "    </tr>\n",
       "  </thead>\n",
       "  <tbody>\n",
       "    <tr>\n",
       "      <th>0</th>\n",
       "      <td>2016-12-31 23:00:00+00:00</td>\n",
       "      <td>58.82</td>\n",
       "      <td>5</td>\n",
       "      <td>23</td>\n",
       "      <td>366</td>\n",
       "      <td>0</td>\n",
       "      <td>23</td>\n",
       "    </tr>\n",
       "    <tr>\n",
       "      <th>1</th>\n",
       "      <td>2017-01-01 00:00:00+00:00</td>\n",
       "      <td>58.23</td>\n",
       "      <td>6</td>\n",
       "      <td>0</td>\n",
       "      <td>1</td>\n",
       "      <td>0</td>\n",
       "      <td>0</td>\n",
       "    </tr>\n",
       "    <tr>\n",
       "      <th>2</th>\n",
       "      <td>2017-01-01 01:00:00+00:00</td>\n",
       "      <td>51.95</td>\n",
       "      <td>6</td>\n",
       "      <td>1</td>\n",
       "      <td>1</td>\n",
       "      <td>0</td>\n",
       "      <td>1</td>\n",
       "    </tr>\n",
       "    <tr>\n",
       "      <th>3</th>\n",
       "      <td>2017-01-01 02:00:00+00:00</td>\n",
       "      <td>47.27</td>\n",
       "      <td>6</td>\n",
       "      <td>2</td>\n",
       "      <td>1</td>\n",
       "      <td>0</td>\n",
       "      <td>2</td>\n",
       "    </tr>\n",
       "    <tr>\n",
       "      <th>4</th>\n",
       "      <td>2017-01-01 03:00:00+00:00</td>\n",
       "      <td>45.49</td>\n",
       "      <td>6</td>\n",
       "      <td>3</td>\n",
       "      <td>1</td>\n",
       "      <td>0</td>\n",
       "      <td>3</td>\n",
       "    </tr>\n",
       "  </tbody>\n",
       "</table>\n",
       "</div>"
      ],
      "text/plain": [
       "                       date  price  dayofweek  hourofday  dayofyear  \\\n",
       "0 2016-12-31 23:00:00+00:00  58.82          5         23        366   \n",
       "1 2017-01-01 00:00:00+00:00  58.23          6          0          1   \n",
       "2 2017-01-01 01:00:00+00:00  51.95          6          1          1   \n",
       "3 2017-01-01 02:00:00+00:00  47.27          6          2          1   \n",
       "4 2017-01-01 03:00:00+00:00  45.49          6          3          1   \n",
       "\n",
       "   dayofseries  hoursofseries  \n",
       "0            0             23  \n",
       "1            0              0  \n",
       "2            0              1  \n",
       "3            0              2  \n",
       "4            0              3  "
      ]
     },
     "execution_count": 172,
     "metadata": {},
     "output_type": "execute_result"
    }
   ],
   "source": [
    "df_price_preprocessed = preprocess_true_data(df_price)\n",
    "df_price_preprocessed.head()"
   ]
  },
  {
   "cell_type": "code",
   "execution_count": 173,
   "id": "49c0607038083925",
   "metadata": {
    "ExecuteTime": {
     "end_time": "2025-01-09T21:30:40.925833Z",
     "start_time": "2025-01-09T21:30:40.911621Z"
    }
   },
   "outputs": [],
   "source": [
    "def preprocess_synthetic_data(df):\n",
    "    new_df = df.copy()\n",
    "    new_df['dayofseries'] = 0\n",
    "    \n",
    "    day = -1\n",
    "    for i in range(0, len(new_df)):\n",
    "        if i % 24 == 0:\n",
    "            day += 1\n",
    "        new_df.loc[i, 'dayofseries'] = day\n",
    "    \n",
    "    new_df[\"hoursofseries\"] = new_df[\"dayofseries\"]*24 + new_df[\"hourofday\"]\n",
    "    return new_df"
   ]
  },
  {
   "cell_type": "code",
   "execution_count": 174,
   "id": "3d931d2f756e89ca",
   "metadata": {
    "ExecuteTime": {
     "end_time": "2025-01-09T21:30:43.997088Z",
     "start_time": "2025-01-09T21:30:42.065844Z"
    }
   },
   "outputs": [
    {
     "data": {
      "text/html": [
       "<div>\n",
       "<style scoped>\n",
       "    .dataframe tbody tr th:only-of-type {\n",
       "        vertical-align: middle;\n",
       "    }\n",
       "\n",
       "    .dataframe tbody tr th {\n",
       "        vertical-align: top;\n",
       "    }\n",
       "\n",
       "    .dataframe thead th {\n",
       "        text-align: right;\n",
       "    }\n",
       "</style>\n",
       "<table border=\"1\" class=\"dataframe\">\n",
       "  <thead>\n",
       "    <tr style=\"text-align: right;\">\n",
       "      <th></th>\n",
       "      <th>price</th>\n",
       "      <th>dayofweek</th>\n",
       "      <th>hourofday</th>\n",
       "      <th>dayofseries</th>\n",
       "      <th>hoursofseries</th>\n",
       "    </tr>\n",
       "  </thead>\n",
       "  <tbody>\n",
       "    <tr>\n",
       "      <th>0</th>\n",
       "      <td>31.66</td>\n",
       "      <td>0</td>\n",
       "      <td>0</td>\n",
       "      <td>0</td>\n",
       "      <td>0</td>\n",
       "    </tr>\n",
       "    <tr>\n",
       "      <th>1</th>\n",
       "      <td>31.06</td>\n",
       "      <td>0</td>\n",
       "      <td>1</td>\n",
       "      <td>0</td>\n",
       "      <td>1</td>\n",
       "    </tr>\n",
       "    <tr>\n",
       "      <th>2</th>\n",
       "      <td>27.81</td>\n",
       "      <td>0</td>\n",
       "      <td>2</td>\n",
       "      <td>0</td>\n",
       "      <td>2</td>\n",
       "    </tr>\n",
       "    <tr>\n",
       "      <th>3</th>\n",
       "      <td>27.54</td>\n",
       "      <td>0</td>\n",
       "      <td>3</td>\n",
       "      <td>0</td>\n",
       "      <td>3</td>\n",
       "    </tr>\n",
       "    <tr>\n",
       "      <th>4</th>\n",
       "      <td>25.04</td>\n",
       "      <td>0</td>\n",
       "      <td>4</td>\n",
       "      <td>0</td>\n",
       "      <td>4</td>\n",
       "    </tr>\n",
       "  </tbody>\n",
       "</table>\n",
       "</div>"
      ],
      "text/plain": [
       "   price  dayofweek  hourofday  dayofseries  hoursofseries\n",
       "0  31.66          0          0            0              0\n",
       "1  31.06          0          1            0              1\n",
       "2  27.81          0          2            0              2\n",
       "3  27.54          0          3            0              3\n",
       "4  25.04          0          4            0              4"
      ]
     },
     "execution_count": 174,
     "metadata": {},
     "output_type": "execute_result"
    }
   ],
   "source": [
    "df_price_generated_00257_preprocessed = preprocess_synthetic_data(df_price_generated_00257)\n",
    "df_price_generated_00257_preprocessed.head()"
   ]
  },
  {
   "cell_type": "markdown",
   "id": "fb515a8aa51a2cb1",
   "metadata": {},
   "source": [
    "## Plot data"
   ]
  },
  {
   "cell_type": "code",
   "execution_count": 175,
   "id": "c5e7d94534d7e242",
   "metadata": {
    "ExecuteTime": {
     "end_time": "2025-01-09T21:17:26.331007Z",
     "start_time": "2025-01-09T21:17:26.186016Z"
    }
   },
   "outputs": [
    {
     "data": {
      "image/png": "[encoded data removed]",
      "text/plain": [
       "<Figure size 1500x500 with 1 Axes>"
      ]
     },
     "metadata": {},
     "output_type": "display_data"
    }
   ],
   "source": [
    "plt.figure(figsize=(15,5))\n",
    "plt.plot(df_price_preprocessed[\"dayofseries\"], df_price_preprocessed[\"price\"], label=\"True data\")\n",
    "plt.plot(df_price_generated_00257_preprocessed[\"dayofseries\"], df_price_generated_00257_preprocessed[\"price\"], label=\"Synthetic data\")\n",
    "plt.title('Price depending on time')\n",
    "plt.xlabel('Time (day)')\n",
    "plt.ylabel('Price')\n",
    "plt.legend()\n",
    "\n",
    "plt.show()"
   ]
  },
  {
   "cell_type": "markdown",
   "id": "e6a705a91a4124f5",
   "metadata": {},
   "source": [
    "## Feature Engineering"
   ]
  },
  {
   "cell_type": "markdown",
   "id": "7fff02ec4e243a75",
   "metadata": {},
   "source": [
    "One example x is `[dayofweek, hourofday, dayofseries]` or another set of attributes and y is `price`"
   ]
  },
  {
   "cell_type": "code",
   "execution_count": 176,
   "id": "db7591a8d2fc48b5",
   "metadata": {
    "ExecuteTime": {
     "end_time": "2025-01-09T21:17:26.380380Z",
     "start_time": "2025-01-09T21:17:26.364304Z"
    }
   },
   "outputs": [],
   "source": [
    "def get_x_y_point_by_point(df, x_keys: List[str], y_key: str):\n",
    "    X = df[x_keys]\n",
    "    y = df[y_key]\n",
    "    return X, y"
   ]
  },
  {
   "cell_type": "markdown",
   "id": "de5175e314be7cbe",
   "metadata": {},
   "source": [
    "One example x is a sequence of values of one attribute (e.g. x is `dayofseries_1, dayofseries_2, ..., dayofseries_5`) using a window and y is `price`"
   ]
  },
  {
   "cell_type": "code",
   "execution_count": 177,
   "id": "95169155e14c3b5d",
   "metadata": {
    "ExecuteTime": {
     "end_time": "2025-01-09T22:05:28.206507Z",
     "start_time": "2025-01-09T22:05:28.194505Z"
    }
   },
   "outputs": [],
   "source": [
    "def get_x_y_window(df, y_key: str, window_size: int, window_step: int, horizon: int):\n",
    "    X , y  = [], []\n",
    "    \n",
    "    for i in range(0, len(df[y_key]) - window_size - horizon, window_step):\n",
    "        X.append(df[y_key][i:i+window_size])\n",
    "        y.append(df[y_key][i+window_size:i+window_size+horizon])\n",
    "        \n",
    "    return X, y"
   ]
  },
  {
   "cell_type": "markdown",
   "id": "669be87f4e01bd9d",
   "metadata": {},
   "source": [
    "## Train & Test Splits"
   ]
  },
  {
   "cell_type": "code",
   "execution_count": 178,
   "id": "b092bef36a50715b",
   "metadata": {
    "ExecuteTime": {
     "end_time": "2025-01-09T21:17:26.454081Z",
     "start_time": "2025-01-09T21:17:26.438199Z"
    }
   },
   "outputs": [],
   "source": [
    "class DatasetWithWindow(torch.utils.data.Dataset):\n",
    "    def __init__(self, data, x_features, y_feature, window_size, window_step, horizon):\n",
    "        self.X = torch.tensor(data[x_features].values, dtype=torch.float32)\n",
    "        self.y = torch.tensor(data[y_feature].values, dtype=torch.float32).unsqueeze(-1)\n",
    "        \n",
    "        self.window_size = window_size\n",
    "        self.window_step = window_step\n",
    "        self.horizon = horizon\n",
    "        self.length = (len(self.X) - window_size) // window_step + 1\n",
    "        # print(f\"length: {self.length}, window_size: {window_size}, window_step: {window_step}, len(X): {len(self.X)}\")\n",
    "\n",
    "    def __len__(self):\n",
    "        return self.length\n",
    "\n",
    "    def __getitem__(self, index):\n",
    "        start = index * self.window_step\n",
    "        end = start + self.window_size\n",
    "        \n",
    "        if end > len(self.X) or end > len(self.y):\n",
    "            raise IndexError(\"Index out of range\")\n",
    "        window = self.X[start:end]\n",
    "        target = self.y[start:end]\n",
    "        return window, target\n",
    "\n",
    "def get_datasets(df, window_size, window_step, horizon, x_keys, y_key):\n",
    "    train_df = df[:-horizon]\n",
    "    test_df = df[-horizon:]\n",
    "    \n",
    "    train_dataset = DatasetWithWindow(train_df, x_keys, y_key, window_size, window_step, horizon)\n",
    "    test_dataset = DatasetWithWindow(test_df, x_keys, y_key, window_size, window_step, horizon)\n",
    "    \n",
    "    return train_dataset, test_dataset"
   ]
  },
  {
   "cell_type": "markdown",
   "id": "477dc359919ae50a",
   "metadata": {},
   "source": [
    "## Training functions"
   ]
  },
  {
   "cell_type": "code",
   "execution_count": 187,
   "id": "9656af4587dfc189",
   "metadata": {
    "ExecuteTime": {
     "end_time": "2025-01-09T21:17:27.044814Z",
     "start_time": "2025-01-09T21:17:26.469573Z"
    }
   },
   "outputs": [],
   "source": [
    "class LSTMModel(nn.Module):\n",
    "    def __init__(self, input_dim, output_dim, hidden_dim, n_layers):\n",
    "        super().__init__()\n",
    "        # batch_first is True because we have the shape (batch_size, ...) https://pytorch.org/docs/stable/generated/torch.nn.LSTM.html\n",
    "        self._lstm = nn.LSTM(input_size=input_dim, hidden_size=hidden_dim, num_layers=n_layers, batch_first=True)\n",
    "        self._linear = nn.Linear(hidden_dim, output_dim)\n",
    "    def forward(self, x):\n",
    "        x, _ = self._lstm(x)\n",
    "        x = self._linear(x)\n",
    "        return x\n",
    "\n",
    "def train_model(dataloader, lr=0.001, n_epochs=50, hidden_size=32, n_layers=1):\n",
    "    X_batch, y_batch = next(iter(dataloader))\n",
    "    input_dim = X_batch.shape[-1]\n",
    "    output_dim = 1\n",
    "    \n",
    "    model = LSTMModel(input_dim, output_dim, hidden_size, n_layers)\n",
    "    loss_function = nn.MSELoss()\n",
    "    optimizer = Adam(model.parameters(), lr=lr)\n",
    "    \n",
    "    model.train()\n",
    "    \n",
    "    with tqdm(range(n_epochs)) as pbar:\n",
    "        for _ in pbar:\n",
    "            avg_loss = 0\n",
    "            count = 0\n",
    "            for X_batch, y_batch in dataloader:\n",
    "                y_pred = model(X_batch)\n",
    "                loss = loss_function(y_pred, y_batch)\n",
    "                avg_loss += loss.item()\n",
    "                optimizer.zero_grad()\n",
    "                loss.backward()\n",
    "                optimizer.step()\n",
    "                count += 1\n",
    "            avg_loss /= count\n",
    "            pbar.set_description(f\"Train loss: {avg_loss}\")\n",
    "        \n",
    "    return model\n",
    "\n",
    "def test_model(predictions, ground_truth):\n",
    "    mse_function = nn.MSELoss()\n",
    "        \n",
    "    return {\n",
    "        \"mse\": mse_function(predictions, ground_truth).item(),\n",
    "        \"mae\": torch.mean(torch.abs(predictions - ground_truth)).item(),\n",
    "        \"rmse\": torch.sqrt(torch.mean((predictions - ground_truth)**2)).item()\n",
    "    }\n",
    "\n",
    "def predict(model, dataloader):\n",
    "    predictions = []\n",
    "    ground_truth = []\n",
    "    model.eval()\n",
    "    \n",
    "    with torch.no_grad():\n",
    "        for X, y in tqdm(dataloader):\n",
    "            y_pred = model(X)\n",
    "            predictions.append(y_pred)\n",
    "            ground_truth.append(y)\n",
    "    \n",
    "    predictions = torch.cat(predictions).squeeze()\n",
    "    ground_truth = torch.cat(ground_truth).squeeze()\n",
    "    \n",
    "    return predictions, ground_truth\n",
    "        \n",
    "\n",
    "def plot_predictions_vs_real(x_test, y_test, predictions):\n",
    "    x_test_total_hours = x_test[\"dayofseries\"]*24 + x_test[\"hourofday\"]\n",
    "    plt.scatter(x_test_total_hours, y_test, color = 'r', label=\"True\")\n",
    "    plt.scatter(x_test_total_hours, predictions, color = 'b', label=\"Prediction\")\n",
    "    plt.title('Real vs predicted prices depending on time')\n",
    "    plt.xlabel('Time (h)')\n",
    "    plt.ylabel('Price')\n",
    "    plt.legend()\n",
    "\n",
    "    plt.show()"
   ]
  },
  {
   "cell_type": "markdown",
   "id": "88eef679bb0d9ebc",
   "metadata": {},
   "source": [
    "## Without data augmentation"
   ]
  },
  {
   "cell_type": "code",
   "execution_count": 180,
   "id": "ffc3c0a5ee8b4899",
   "metadata": {
    "ExecuteTime": {
     "end_time": "2025-01-09T21:17:27.076292Z",
     "start_time": "2025-01-09T21:17:27.061096Z"
    }
   },
   "outputs": [],
   "source": [
    "train_dataset, test_dataset = get_datasets(df_price_preprocessed, 24, 12, 24, [\"dayofweek\", \"hourofday\", \"dayofseries\"], \"price\")\n",
    "train_dataloader = torch.utils.data.DataLoader(train_dataset, batch_size = 3, shuffle = False)\n",
    "test_dataloader = torch.utils.data.DataLoader(test_dataset, batch_size = 3, shuffle = False)"
   ]
  },
  {
   "cell_type": "markdown",
   "id": "7ff1ab2c52a8f3dc",
   "metadata": {},
   "source": [
    "#### Train and eval"
   ]
  },
  {
   "cell_type": "code",
   "execution_count": 190,
   "id": "3bf7cf23e2aea1b",
   "metadata": {
    "ExecuteTime": {
     "end_time": "2025-01-09T21:17:27.760583Z",
     "start_time": "2025-01-09T21:17:27.092080Z"
    }
   },
   "outputs": [
    {
     "name": "stderr",
     "output_type": "stream",
     "text": [
      "Train loss: 233.02048699926866: 100%|██████████| 20/20 [00:16<00:00,  1.21it/s]\n"
     ]
    }
   ],
   "source": [
    "model = train_model(train_dataloader, lr=0.05, n_epochs=20)"
   ]
  },
  {
   "cell_type": "code",
   "execution_count": 191,
   "id": "2919fa05",
   "metadata": {},
   "outputs": [
    {
     "name": "stdout",
     "output_type": "stream",
     "text": [
      "<torch.utils.data.dataloader.DataLoader object at 0x00000222F0B76080>\n"
     ]
    },
    {
     "name": "stderr",
     "output_type": "stream",
     "text": [
      "100%|██████████| 1/1 [00:00<00:00, 499.14it/s]"
     ]
    },
    {
     "name": "stdout",
     "output_type": "stream",
     "text": [
      "Results: {'mse': 92.72525024414062, 'mae': 6.838578701019287, 'rmse': 9.629395484924316}\n"
     ]
    },
    {
     "name": "stderr",
     "output_type": "stream",
     "text": [
      "\n"
     ]
    },
    {
     "data": {
      "image/png": "[encoded data removed]",
      "text/plain": [
       "<Figure size 640x480 with 1 Axes>"
      ]
     },
     "metadata": {},
     "output_type": "display_data"
    }
   ],
   "source": [
    "predictions, ground_truth = predict(model, test_dataloader)\n",
    "results = test_model(predictions, ground_truth)\n",
    "print(\"Results:\", results)\n",
    "plot_predictions_vs_real(df_price_preprocessed[-24:], ground_truth, predictions)"
   ]
  },
  {
   "cell_type": "markdown",
   "id": "fd8e168263de2148",
   "metadata": {},
   "source": [
    "### With provided data augmentation (synthetic data)"
   ]
  },
  {
   "cell_type": "code",
   "execution_count": 213,
   "id": "5f2fc55ac80ad8cf",
   "metadata": {
    "ExecuteTime": {
     "end_time": "2025-01-09T21:18:12.275364Z",
     "start_time": "2025-01-09T21:18:12.262155Z"
    }
   },
   "outputs": [],
   "source": [
    "def load_synthetic_datasets(path, max_num_fetched=None):\n",
    "    if max_num_fetched is not None and max_num_fetched < 0:\n",
    "        max_num_fetched = None\n",
    "    train_all = []\n",
    "    \n",
    "    i = 0\n",
    "    for filename in tqdm(os.listdir(path)):\n",
    "        if max_num_fetched is not None and i >= max_num_fetched:\n",
    "            break\n",
    "        i += 1\n",
    "        if filename.endswith(\".parquet\"):\n",
    "            df = pd.read_parquet(path + filename)\n",
    "            df_preprocessed = preprocess_synthetic_data(df)\n",
    "            train_dataset, _ = get_datasets(df_preprocessed, 24, 12, 24, [\"dayofweek\", \"hourofday\", \"dayofseries\"], \"price\")\n",
    "           \n",
    "            train_all.append(train_dataset)\n",
    "    \n",
    "    return train_all"
   ]
  },
  {
   "cell_type": "code",
   "execution_count": 214,
   "id": "7f08aee0791833aa",
   "metadata": {
    "ExecuteTime": {
     "end_time": "2025-01-09T21:24:47.807356Z",
     "start_time": "2025-01-09T21:24:47.759900Z"
    }
   },
   "outputs": [
    {
     "name": "stderr",
     "output_type": "stream",
     "text": [
      "  3%|▎         | 5/154 [00:09<04:48,  1.94s/it]\n"
     ]
    }
   ],
   "source": [
    "directory = \"../data/scenarios synthetiques/prix/\"\n",
    "train_all = load_synthetic_datasets(directory, 5)"
   ]
  },
  {
   "cell_type": "code",
   "execution_count": 215,
   "id": "0b93015a",
   "metadata": {},
   "outputs": [],
   "source": [
    "train_concat = ConcatDataset(train_all)\n",
    "train_dataloader = torch.utils.data.DataLoader(train_concat, batch_size = 3, shuffle = False)"
   ]
  },
  {
   "cell_type": "code",
   "execution_count": 216,
   "id": "eb1b0c708824ba22",
   "metadata": {
    "ExecuteTime": {
     "end_time": "2025-01-09T21:25:30.257719Z",
     "start_time": "2025-01-09T21:24:50.560868Z"
    }
   },
   "outputs": [
    {
     "name": "stderr",
     "output_type": "stream",
     "text": [
      "Train loss: 322.4425348221678: 100%|██████████| 20/20 [01:28<00:00,  4.41s/it] \n"
     ]
    }
   ],
   "source": [
    "model = train_model(train_dataloader, lr=0.05, n_epochs=20)"
   ]
  },
  {
   "cell_type": "code",
   "execution_count": 217,
   "id": "4d30bdc0",
   "metadata": {},
   "outputs": [
    {
     "name": "stdout",
     "output_type": "stream",
     "text": [
      "<torch.utils.data.dataloader.DataLoader object at 0x00000222F0B76080>\n"
     ]
    },
    {
     "name": "stderr",
     "output_type": "stream",
     "text": [
      "100%|██████████| 1/1 [00:00<00:00, 1001.27it/s]"
     ]
    },
    {
     "name": "stdout",
     "output_type": "stream",
     "text": [
      "Results: {'mse': 160.64195251464844, 'mae': 11.558258056640625, 'rmse': 12.674460411071777}\n"
     ]
    },
    {
     "name": "stderr",
     "output_type": "stream",
     "text": [
      "\n"
     ]
    },
    {
     "data": {
      "image/png": "[encoded data removed]",
      "text/plain": [
       "<Figure size 640x480 with 1 Axes>"
      ]
     },
     "metadata": {},
     "output_type": "display_data"
    }
   ],
   "source": [
    "predictions, ground_truth = predict(model, test_dataloader)\n",
    "results = test_model(predictions, ground_truth)\n",
    "print(\"Results:\", results)\n",
    "plot_predictions_vs_real(df_price_preprocessed[-24:], ground_truth, predictions)"
   ]
  }
 ],
 "metadata": {
  "kernelspec": {
   "display_name": "Python 3",
   "language": "python",
   "name": "python3"
  },
  "language_info": {
   "codemirror_mode": {
    "name": "ipython",
    "version": 3
   },
   "file_extension": ".py",
   "mimetype": "text/x-python",
   "name": "python",
   "nbconvert_exporter": "python",
   "pygments_lexer": "ipython3",
   "version": "3.10.16"
  }
 },
 "nbformat": 4,
 "nbformat_minor": 5
}
