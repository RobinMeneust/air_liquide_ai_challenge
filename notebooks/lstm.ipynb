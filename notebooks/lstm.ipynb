{
 "cells": [
  {
   "cell_type": "markdown",
   "id": "f098efd9c848e438",
   "metadata": {},
   "source": [
    "# LSTM"
   ]
  },
  {
   "cell_type": "markdown",
   "id": "6d91bf3fc53c2e75",
   "metadata": {},
   "source": [
    "## Read data"
   ]
  },
  {
   "cell_type": "code",
   "execution_count": 1,
   "id": "initial_id",
   "metadata": {
    "ExecuteTime": {
     "end_time": "2025-01-09T22:11:34.708895Z",
     "start_time": "2025-01-09T22:11:34.699383Z"
    },
    "collapsed": true
   },
   "outputs": [
    {
     "name": "stdout",
     "output_type": "stream",
     "text": [
      "import error: No module named 'triton'\n"
     ]
    },
    {
     "name": "stderr",
     "output_type": "stream",
     "text": [
      "d:\\Programs\\Anaconda\\envs\\air_liquide_ai_challenge\\lib\\site-packages\\tqdm\\auto.py:21: TqdmWarning: IProgress not found. Please update jupyter and ipywidgets. See https://ipywidgets.readthedocs.io/en/stable/user_install.html\n",
      "  from .autonotebook import tqdm as notebook_tqdm\n"
     ]
    }
   ],
   "source": [
    "import os\n",
    "import numpy as np\n",
    "import pandas as pd\n",
    "from tqdm import tqdm\n",
    "import matplotlib.pyplot as plt\n",
    "import torch.nn as nn\n",
    "from torch.optim import Adam\n",
    "from torch.utils.data import Subset\n",
    "import torch\n",
    "from torchtune.datasets import ConcatDataset\n",
    "import optuna\n",
    "import lightning.pytorch as pl\n",
    "from electricity_price_forecast.data.dataset import DatasetWithWindow\n",
    "from electricity_price_forecast.model.lstm_model import LSTMModel\n",
    "from electricity_price_forecast.model.torch_lightning_module import TorchLightningModule\n",
    "from lightning.pytorch.callbacks.early_stopping import EarlyStopping\n",
    "from electricity_price_forecast.data.datamodule import Datamodule\n",
    "import logging\n",
    "from electricity_price_forecast.model.lstm_model import MULTI_STEP\n",
    "\n",
    "logging.getLogger(\"lightning.pytorch\").setLevel(logging.WARNING)\n",
    "\n",
    "VAL_RATIO = 0.2\n",
    "TESTED_HORIZONS = [6, 12, 24, 48, 72, 168]\n",
    "\n",
    "df_price = pd.read_parquet(\"../data/donnees historiques/prix/hourly_day_ahead_prices_2017_2020.parquet\").reset_index()\n",
    "df_price_generated_00257 = pd.read_parquet(\"../data/scenarios synthetiques/prix/00257.parquet\")"
   ]
  },
  {
   "cell_type": "code",
   "execution_count": 2,
   "id": "e9fa8021e20d5e65",
   "metadata": {
    "ExecuteTime": {
     "end_time": "2025-01-09T21:17:23.757117Z",
     "start_time": "2025-01-09T21:17:23.730921Z"
    }
   },
   "outputs": [
    {
     "name": "stdout",
     "output_type": "stream",
     "text": [
      "0\n",
      "35063\n"
     ]
    },
    {
     "data": {
      "text/html": [
       "<div>\n",
       "<style scoped>\n",
       "    .dataframe tbody tr th:only-of-type {\n",
       "        vertical-align: middle;\n",
       "    }\n",
       "\n",
       "    .dataframe tbody tr th {\n",
       "        vertical-align: top;\n",
       "    }\n",
       "\n",
       "    .dataframe thead th {\n",
       "        text-align: right;\n",
       "    }\n",
       "</style>\n",
       "<table border=\"1\" class=\"dataframe\">\n",
       "  <thead>\n",
       "    <tr style=\"text-align: right;\">\n",
       "      <th></th>\n",
       "      <th>date</th>\n",
       "      <th>price</th>\n",
       "    </tr>\n",
       "  </thead>\n",
       "  <tbody>\n",
       "    <tr>\n",
       "      <th>0</th>\n",
       "      <td>2016-12-31 23:00:00+00:00</td>\n",
       "      <td>58.82</td>\n",
       "    </tr>\n",
       "    <tr>\n",
       "      <th>1</th>\n",
       "      <td>2017-01-01 00:00:00+00:00</td>\n",
       "      <td>58.23</td>\n",
       "    </tr>\n",
       "    <tr>\n",
       "      <th>2</th>\n",
       "      <td>2017-01-01 01:00:00+00:00</td>\n",
       "      <td>51.95</td>\n",
       "    </tr>\n",
       "    <tr>\n",
       "      <th>3</th>\n",
       "      <td>2017-01-01 02:00:00+00:00</td>\n",
       "      <td>47.27</td>\n",
       "    </tr>\n",
       "    <tr>\n",
       "      <th>4</th>\n",
       "      <td>2017-01-01 03:00:00+00:00</td>\n",
       "      <td>45.49</td>\n",
       "    </tr>\n",
       "  </tbody>\n",
       "</table>\n",
       "</div>"
      ],
      "text/plain": [
       "                       date  price\n",
       "0 2016-12-31 23:00:00+00:00  58.82\n",
       "1 2017-01-01 00:00:00+00:00  58.23\n",
       "2 2017-01-01 01:00:00+00:00  51.95\n",
       "3 2017-01-01 02:00:00+00:00  47.27\n",
       "4 2017-01-01 03:00:00+00:00  45.49"
      ]
     },
     "execution_count": 2,
     "metadata": {},
     "output_type": "execute_result"
    }
   ],
   "source": [
    "print(df_price.index.min())\n",
    "print(df_price.index.max())\n",
    "df_price.head()"
   ]
  },
  {
   "cell_type": "code",
   "execution_count": 3,
   "id": "dfe6f45090e420a8",
   "metadata": {
    "ExecuteTime": {
     "end_time": "2025-01-09T21:17:23.929692Z",
     "start_time": "2025-01-09T21:17:23.921366Z"
    }
   },
   "outputs": [
    {
     "name": "stdout",
     "output_type": "stream",
     "text": [
      "0\n",
      "6\n"
     ]
    },
    {
     "data": {
      "text/html": [
       "<div>\n",
       "<style scoped>\n",
       "    .dataframe tbody tr th:only-of-type {\n",
       "        vertical-align: middle;\n",
       "    }\n",
       "\n",
       "    .dataframe tbody tr th {\n",
       "        vertical-align: top;\n",
       "    }\n",
       "\n",
       "    .dataframe thead th {\n",
       "        text-align: right;\n",
       "    }\n",
       "</style>\n",
       "<table border=\"1\" class=\"dataframe\">\n",
       "  <thead>\n",
       "    <tr style=\"text-align: right;\">\n",
       "      <th></th>\n",
       "      <th>price</th>\n",
       "      <th>dayofweek</th>\n",
       "      <th>hourofday</th>\n",
       "    </tr>\n",
       "  </thead>\n",
       "  <tbody>\n",
       "    <tr>\n",
       "      <th>0</th>\n",
       "      <td>31.66</td>\n",
       "      <td>0</td>\n",
       "      <td>0</td>\n",
       "    </tr>\n",
       "    <tr>\n",
       "      <th>1</th>\n",
       "      <td>31.06</td>\n",
       "      <td>0</td>\n",
       "      <td>1</td>\n",
       "    </tr>\n",
       "    <tr>\n",
       "      <th>2</th>\n",
       "      <td>27.81</td>\n",
       "      <td>0</td>\n",
       "      <td>2</td>\n",
       "    </tr>\n",
       "    <tr>\n",
       "      <th>3</th>\n",
       "      <td>27.54</td>\n",
       "      <td>0</td>\n",
       "      <td>3</td>\n",
       "    </tr>\n",
       "    <tr>\n",
       "      <th>4</th>\n",
       "      <td>25.04</td>\n",
       "      <td>0</td>\n",
       "      <td>4</td>\n",
       "    </tr>\n",
       "  </tbody>\n",
       "</table>\n",
       "</div>"
      ],
      "text/plain": [
       "   price  dayofweek  hourofday\n",
       "0  31.66          0          0\n",
       "1  31.06          0          1\n",
       "2  27.81          0          2\n",
       "3  27.54          0          3\n",
       "4  25.04          0          4"
      ]
     },
     "execution_count": 3,
     "metadata": {},
     "output_type": "execute_result"
    }
   ],
   "source": [
    "print(df_price_generated_00257[\"dayofweek\"].min())\n",
    "print(df_price_generated_00257[\"dayofweek\"].max())\n",
    "df_price_generated_00257.head()"
   ]
  },
  {
   "cell_type": "markdown",
   "id": "a877f53ab1e9b236",
   "metadata": {},
   "source": [
    "## Preprocess data"
   ]
  },
  {
   "cell_type": "code",
   "execution_count": 4,
   "id": "798792fc08e5a160",
   "metadata": {
    "ExecuteTime": {
     "end_time": "2025-01-09T21:30:36.596832Z",
     "start_time": "2025-01-09T21:30:36.586519Z"
    }
   },
   "outputs": [],
   "source": [
    "def preprocess_true_data(df):\n",
    "    reference_date = pd.to_datetime(\"2016-12-31 00:00:00+00:00\")\n",
    "    new_df = df.copy()\n",
    "    new_df['dayofweek'] = new_df['date'].dt.dayofweek\n",
    "    new_df['hourofday'] = new_df['date'].dt.hour\n",
    "    new_df['dayofyear'] = new_df['date'].dt.dayofyear\n",
    "    new_df[\"dayofseries\"] = (new_df[\"date\"] - reference_date).dt.days\n",
    "    new_df[\"hoursofseries\"] = new_df[\"dayofseries\"]*24 + new_df[\"hourofday\"]\n",
    "    return new_df"
   ]
  },
  {
   "cell_type": "code",
   "execution_count": 5,
   "id": "1f0417d47b9de1d0",
   "metadata": {
    "ExecuteTime": {
     "end_time": "2025-01-09T21:30:39.425795Z",
     "start_time": "2025-01-09T21:30:39.405420Z"
    }
   },
   "outputs": [
    {
     "data": {
      "text/html": [
       "<div>\n",
       "<style scoped>\n",
       "    .dataframe tbody tr th:only-of-type {\n",
       "        vertical-align: middle;\n",
       "    }\n",
       "\n",
       "    .dataframe tbody tr th {\n",
       "        vertical-align: top;\n",
       "    }\n",
       "\n",
       "    .dataframe thead th {\n",
       "        text-align: right;\n",
       "    }\n",
       "</style>\n",
       "<table border=\"1\" class=\"dataframe\">\n",
       "  <thead>\n",
       "    <tr style=\"text-align: right;\">\n",
       "      <th></th>\n",
       "      <th>date</th>\n",
       "      <th>price</th>\n",
       "      <th>dayofweek</th>\n",
       "      <th>hourofday</th>\n",
       "      <th>dayofyear</th>\n",
       "      <th>dayofseries</th>\n",
       "      <th>hoursofseries</th>\n",
       "    </tr>\n",
       "  </thead>\n",
       "  <tbody>\n",
       "    <tr>\n",
       "      <th>0</th>\n",
       "      <td>2016-12-31 23:00:00+00:00</td>\n",
       "      <td>58.82</td>\n",
       "      <td>5</td>\n",
       "      <td>23</td>\n",
       "      <td>366</td>\n",
       "      <td>0</td>\n",
       "      <td>23</td>\n",
       "    </tr>\n",
       "    <tr>\n",
       "      <th>1</th>\n",
       "      <td>2017-01-01 00:00:00+00:00</td>\n",
       "      <td>58.23</td>\n",
       "      <td>6</td>\n",
       "      <td>0</td>\n",
       "      <td>1</td>\n",
       "      <td>1</td>\n",
       "      <td>24</td>\n",
       "    </tr>\n",
       "    <tr>\n",
       "      <th>2</th>\n",
       "      <td>2017-01-01 01:00:00+00:00</td>\n",
       "      <td>51.95</td>\n",
       "      <td>6</td>\n",
       "      <td>1</td>\n",
       "      <td>1</td>\n",
       "      <td>1</td>\n",
       "      <td>25</td>\n",
       "    </tr>\n",
       "    <tr>\n",
       "      <th>3</th>\n",
       "      <td>2017-01-01 02:00:00+00:00</td>\n",
       "      <td>47.27</td>\n",
       "      <td>6</td>\n",
       "      <td>2</td>\n",
       "      <td>1</td>\n",
       "      <td>1</td>\n",
       "      <td>26</td>\n",
       "    </tr>\n",
       "    <tr>\n",
       "      <th>4</th>\n",
       "      <td>2017-01-01 03:00:00+00:00</td>\n",
       "      <td>45.49</td>\n",
       "      <td>6</td>\n",
       "      <td>3</td>\n",
       "      <td>1</td>\n",
       "      <td>1</td>\n",
       "      <td>27</td>\n",
       "    </tr>\n",
       "  </tbody>\n",
       "</table>\n",
       "</div>"
      ],
      "text/plain": [
       "                       date  price  dayofweek  hourofday  dayofyear  \\\n",
       "0 2016-12-31 23:00:00+00:00  58.82          5         23        366   \n",
       "1 2017-01-01 00:00:00+00:00  58.23          6          0          1   \n",
       "2 2017-01-01 01:00:00+00:00  51.95          6          1          1   \n",
       "3 2017-01-01 02:00:00+00:00  47.27          6          2          1   \n",
       "4 2017-01-01 03:00:00+00:00  45.49          6          3          1   \n",
       "\n",
       "   dayofseries  hoursofseries  \n",
       "0            0             23  \n",
       "1            1             24  \n",
       "2            1             25  \n",
       "3            1             26  \n",
       "4            1             27  "
      ]
     },
     "execution_count": 5,
     "metadata": {},
     "output_type": "execute_result"
    }
   ],
   "source": [
    "df_price_preprocessed = preprocess_true_data(df_price)\n",
    "df_price_preprocessed.head()"
   ]
  },
  {
   "cell_type": "code",
   "execution_count": 6,
   "id": "49c0607038083925",
   "metadata": {
    "ExecuteTime": {
     "end_time": "2025-01-09T21:30:40.925833Z",
     "start_time": "2025-01-09T21:30:40.911621Z"
    }
   },
   "outputs": [],
   "source": [
    "def preprocess_synthetic_data(df):\n",
    "    new_df = df.copy()\n",
    "    new_df['dayofseries'] = 0\n",
    "    \n",
    "    day = -1\n",
    "    for i in range(0, len(new_df)):\n",
    "        if i % 24 == 0:\n",
    "            day += 1\n",
    "        new_df.loc[i, 'dayofseries'] = day\n",
    "    \n",
    "    new_df[\"hoursofseries\"] = new_df[\"dayofseries\"]*24 + new_df[\"hourofday\"]\n",
    "    return new_df"
   ]
  },
  {
   "cell_type": "code",
   "execution_count": 7,
   "id": "3d931d2f756e89ca",
   "metadata": {
    "ExecuteTime": {
     "end_time": "2025-01-09T21:30:43.997088Z",
     "start_time": "2025-01-09T21:30:42.065844Z"
    }
   },
   "outputs": [
    {
     "data": {
      "text/html": [
       "<div>\n",
       "<style scoped>\n",
       "    .dataframe tbody tr th:only-of-type {\n",
       "        vertical-align: middle;\n",
       "    }\n",
       "\n",
       "    .dataframe tbody tr th {\n",
       "        vertical-align: top;\n",
       "    }\n",
       "\n",
       "    .dataframe thead th {\n",
       "        text-align: right;\n",
       "    }\n",
       "</style>\n",
       "<table border=\"1\" class=\"dataframe\">\n",
       "  <thead>\n",
       "    <tr style=\"text-align: right;\">\n",
       "      <th></th>\n",
       "      <th>price</th>\n",
       "      <th>dayofweek</th>\n",
       "      <th>hourofday</th>\n",
       "      <th>dayofseries</th>\n",
       "      <th>hoursofseries</th>\n",
       "    </tr>\n",
       "  </thead>\n",
       "  <tbody>\n",
       "    <tr>\n",
       "      <th>0</th>\n",
       "      <td>31.66</td>\n",
       "      <td>0</td>\n",
       "      <td>0</td>\n",
       "      <td>0</td>\n",
       "      <td>0</td>\n",
       "    </tr>\n",
       "    <tr>\n",
       "      <th>1</th>\n",
       "      <td>31.06</td>\n",
       "      <td>0</td>\n",
       "      <td>1</td>\n",
       "      <td>0</td>\n",
       "      <td>1</td>\n",
       "    </tr>\n",
       "    <tr>\n",
       "      <th>2</th>\n",
       "      <td>27.81</td>\n",
       "      <td>0</td>\n",
       "      <td>2</td>\n",
       "      <td>0</td>\n",
       "      <td>2</td>\n",
       "    </tr>\n",
       "    <tr>\n",
       "      <th>3</th>\n",
       "      <td>27.54</td>\n",
       "      <td>0</td>\n",
       "      <td>3</td>\n",
       "      <td>0</td>\n",
       "      <td>3</td>\n",
       "    </tr>\n",
       "    <tr>\n",
       "      <th>4</th>\n",
       "      <td>25.04</td>\n",
       "      <td>0</td>\n",
       "      <td>4</td>\n",
       "      <td>0</td>\n",
       "      <td>4</td>\n",
       "    </tr>\n",
       "  </tbody>\n",
       "</table>\n",
       "</div>"
      ],
      "text/plain": [
       "   price  dayofweek  hourofday  dayofseries  hoursofseries\n",
       "0  31.66          0          0            0              0\n",
       "1  31.06          0          1            0              1\n",
       "2  27.81          0          2            0              2\n",
       "3  27.54          0          3            0              3\n",
       "4  25.04          0          4            0              4"
      ]
     },
     "execution_count": 7,
     "metadata": {},
     "output_type": "execute_result"
    }
   ],
   "source": [
    "df_price_generated_00257_preprocessed = preprocess_synthetic_data(df_price_generated_00257)\n",
    "df_price_generated_00257_preprocessed.head()"
   ]
  },
  {
   "cell_type": "markdown",
   "id": "fb515a8aa51a2cb1",
   "metadata": {},
   "source": [
    "## Plot data"
   ]
  },
  {
   "cell_type": "code",
   "execution_count": 8,
   "id": "c5e7d94534d7e242",
   "metadata": {
    "ExecuteTime": {
     "end_time": "2025-01-09T21:17:26.331007Z",
     "start_time": "2025-01-09T21:17:26.186016Z"
    }
   },
   "outputs": [
    {
     "data": {
      "image/png": "[encoded data removed]",
      "text/plain": [
       "<Figure size 1500x500 with 1 Axes>"
      ]
     },
     "metadata": {},
     "output_type": "display_data"
    }
   ],
   "source": [
    "plt.figure(figsize=(15,5))\n",
    "plt.plot(df_price_preprocessed[\"dayofseries\"], df_price_preprocessed[\"price\"], label=\"True data\")\n",
    "plt.plot(df_price_generated_00257_preprocessed[\"dayofseries\"], df_price_generated_00257_preprocessed[\"price\"], label=\"Synthetic data\")\n",
    "plt.title('Price depending on time')\n",
    "plt.xlabel('Time (day)')\n",
    "plt.ylabel('Price')\n",
    "plt.legend()\n",
    "\n",
    "plt.show()"
   ]
  },
  {
   "cell_type": "markdown",
   "id": "477dc359919ae50a",
   "metadata": {},
   "source": [
    "## Training functions"
   ]
  },
  {
   "cell_type": "code",
   "execution_count": 43,
   "id": "9656af4587dfc189",
   "metadata": {
    "ExecuteTime": {
     "end_time": "2025-01-09T21:17:27.044814Z",
     "start_time": "2025-01-09T21:17:26.469573Z"
    }
   },
   "outputs": [],
   "source": [
    "def get_best_params(datamodule, horizon, n_trials=50):\n",
    "    study = optuna.create_study(direction=\"minimize\")\n",
    "    study.optimize(lambda trial: train_model(\n",
    "        datamodule,\n",
    "        horizon,\n",
    "        lr=trial.suggest_float(\"lr\", 1e-5, 1e-1),\n",
    "        n_epochs=30,\n",
    "        hidden_dim=trial.suggest_int(\"hidden_dim\", 16, 512),\n",
    "        n_layers=trial.suggest_int(\"n_layers\", 1, 10),\n",
    "    )[-1][\"val_loss\"], n_trials=n_trials)\n",
    "    return study.best_params\n",
    "\n",
    "def train_model(datamodule, horizon, lr=0.001, n_epochs=50, hidden_dim=32, n_layers=1, device=\"cuda\"):\n",
    "    train_dataloader = datamodule.train_dataloader()\n",
    "    X_batch, _ = next(iter(train_dataloader))\n",
    "    input_dim = X_batch.shape[-1]\n",
    "    \n",
    "    model_params = {\n",
    "        \"input_dim\": input_dim,\n",
    "        \"hidden_dim\": hidden_dim,\n",
    "        \"n_layers\": n_layers,\n",
    "        \"output_dim\": horizon,\n",
    "        \"multi_step\": MULTI_STEP.ALL_AT_ONCE\n",
    "    }\n",
    "    \n",
    "    model = TorchLightningModule(LSTMModel, model_params, lr=lr, device=device)\n",
    "    \n",
    "    callbacks = [EarlyStopping(monitor=\"val_loss\", mode=\"min\", patience=5, verbose=False)]\n",
    "    if device == \"cuda\":\n",
    "        trainer = pl.Trainer(max_epochs=n_epochs, devices=-1, accelerator=\"cuda\", callbacks=callbacks, enable_checkpointing=False, logger=False)\n",
    "    else:\n",
    "        trainer = pl.Trainer(max_epochs=n_epochs, callbacks=callbacks, enable_checkpointing=False, logger=False)\n",
    "    \n",
    "    trainer.fit(model, datamodule)\n",
    "            \n",
    "    return model, {\"val_loss\": trainer.callback_metrics[\"val_loss\"], \"train_loss\": trainer.callback_metrics[\"train_loss\"]}\n",
    "\n",
    "def test_model(predictions, ground_truth):\n",
    "    return TorchLightningModule.get_test_metrics(predictions, ground_truth)\n",
    "\n",
    "def predict(model, dataloader, device=\"cuda\"):\n",
    "    predictions = []\n",
    "    ground_truth = []\n",
    "    model.eval()\n",
    "    model.to(device)\n",
    "    \n",
    "    with torch.no_grad():\n",
    "        for X, y in tqdm(dataloader):\n",
    "            y_pred = model(X)\n",
    "            predictions.append(y_pred)\n",
    "            ground_truth.append(y)\n",
    "    \n",
    "    predictions = torch.cat(predictions).squeeze()\n",
    "    ground_truth = torch.cat(ground_truth).squeeze()\n",
    "    \n",
    "    return predictions, ground_truth\n",
    "        \n",
    "\n",
    "def plot_predictions_vs_real(test_dataset, predictions):\n",
    "    n_before = 10\n",
    "    x_values, ground_truth = test_dataset.get_ground_truth(len(test_dataset) - len(predictions) - 1 - n_before, len(test_dataset) - 1)\n",
    "        \n",
    "    x_values_pred = x_values[n_before-1:]\n",
    "    \n",
    "    # We add at beginning of predictions the last ground_truth values to have a continuous plot\n",
    "    predictions = np.insert(predictions, 0, ground_truth[n_before-1])\n",
    "    \n",
    "    plt.plot(x_values, ground_truth, color = 'r', label=\"True\", marker='o')\n",
    "    plt.plot(x_values_pred, predictions, color = 'b', label=\"Prediction\", marker='x', linestyle='--')\n",
    "    plt.title('Real vs predicted prices depending on time')\n",
    "    plt.xlabel('Time (h)')\n",
    "    plt.ylabel('Price')\n",
    "    plt.legend()\n",
    "\n",
    "    plt.show()"
   ]
  },
  {
   "cell_type": "markdown",
   "id": "88eef679bb0d9ebc",
   "metadata": {},
   "source": [
    "## Without data augmentation"
   ]
  },
  {
   "cell_type": "code",
   "execution_count": 71,
   "id": "ffc3c0a5ee8b4899",
   "metadata": {
    "ExecuteTime": {
     "end_time": "2025-01-09T21:17:27.076292Z",
     "start_time": "2025-01-09T21:17:27.061096Z"
    }
   },
   "outputs": [],
   "source": [
    "window_size = 12\n",
    "window_step = TESTED_HORIZONS[4]\n",
    "horizon = TESTED_HORIZONS[4]\n",
    "test_size = TESTED_HORIZONS[-1] + window_size # to have enough data to predict the last horizon (168 h)\n",
    "dataset = DatasetWithWindow(df_price_preprocessed, window_size, window_step, horizon, [\"dayofweek\", \"hourofday\", \"dayofseries\", \"price\"], \"price\")\n",
    "# dataset = DatasetWithWindow(df_price_preprocessed, window_size, window_step, horizon, \"price\", \"price\")\n",
    "\n",
    "\n",
    "# splits\n",
    "def get_splits(dataset, test_size, val_ratio):\n",
    "    train_split_size = len(dataset) - test_size\n",
    "\n",
    "    val_split_size = int(train_split_size * val_ratio)\n",
    "    train_split_size -= val_split_size\n",
    "\n",
    "    test_start_idx = train_split_size + val_split_size\n",
    "\n",
    "    train_indices = range(train_split_size)\n",
    "    val_indices = range(train_split_size, test_start_idx)\n",
    "    test_indices = range(test_start_idx, len(dataset))\n",
    "\n",
    "    train_split = Subset(dataset, train_indices)\n",
    "    \n",
    "    if val_ratio == 0:\n",
    "        val_split = None\n",
    "    else:\n",
    "        val_split = Subset(dataset, val_indices)\n",
    "    \n",
    "    if test_size == 0:\n",
    "        test_split = None\n",
    "    else:\n",
    "        test_split = Subset(dataset, test_indices)\n",
    "    \n",
    "    return train_split, val_split, test_split\n",
    "\n",
    "train_split, val_split, test_split = get_splits(dataset, test_size, VAL_RATIO)\n",
    "\n",
    "datamodule = Datamodule(train_split, val_split, test_split, batch_size=32)"
   ]
  },
  {
   "cell_type": "code",
   "execution_count": 72,
   "id": "b841108c",
   "metadata": {},
   "outputs": [
    {
     "name": "stdout",
     "output_type": "stream",
     "text": [
      "8\n",
      "torch.Size([32, 12, 4])\n",
      "torch.Size([32, 72, 1])\n"
     ]
    }
   ],
   "source": [
    "train_dataloader = datamodule.train_dataloader()\n",
    "X_batch, y_batch = next(iter(train_dataloader))\n",
    "print(len(train_dataloader))\n",
    "print(X_batch.shape)\n",
    "print(y_batch.shape)"
   ]
  },
  {
   "cell_type": "markdown",
   "id": "d087758a",
   "metadata": {},
   "source": [
    "#### Find best params"
   ]
  },
  {
   "cell_type": "code",
   "execution_count": null,
   "id": "c5c77836",
   "metadata": {},
   "outputs": [],
   "source": [
    "# best_params = get_best_params(datamodule, horizon, n_trials=50)"
   ]
  },
  {
   "cell_type": "code",
   "execution_count": 74,
   "id": "d040691b",
   "metadata": {},
   "outputs": [
    {
     "data": {
      "text/plain": [
       "{'lr': 0.07425688743431168, 'hidden_dim': 274, 'n_layers': 2}"
      ]
     },
     "execution_count": 74,
     "metadata": {},
     "output_type": "execute_result"
    }
   ],
   "source": [
    "# best_params = {'lr': 0.00024273038278097014, 'hidden_dim': 352, 'n_layers': 2}\n",
    "best_params = {'lr': 0.07425688743431168, 'hidden_dim': 274, 'n_layers': 2}\n",
    "# best_params = {'lr': 0.0008968772529225413, 'hidden_dim': 155, 'n_layers': 2}\n",
    "best_params"
   ]
  },
  {
   "cell_type": "markdown",
   "id": "7ff1ab2c52a8f3dc",
   "metadata": {},
   "source": [
    "#### Train and eval"
   ]
  },
  {
   "cell_type": "code",
   "execution_count": 75,
   "id": "3bf7cf23e2aea1b",
   "metadata": {
    "ExecuteTime": {
     "end_time": "2025-01-09T21:17:27.760583Z",
     "start_time": "2025-01-09T21:17:27.092080Z"
    }
   },
   "outputs": [
    {
     "name": "stdout",
     "output_type": "stream",
     "text": [
      "Epoch 7: 100%|██████████| 8/8 [00:00<00:00, 152.81it/s, train_loss=537.0, val_loss=265.0]  \n"
     ]
    }
   ],
   "source": [
    "model, _ = train_model(datamodule, horizon, **best_params)"
   ]
  },
  {
   "cell_type": "code",
   "execution_count": 76,
   "id": "2919fa05",
   "metadata": {},
   "outputs": [
    {
     "name": "stderr",
     "output_type": "stream",
     "text": [
      "100%|██████████| 6/6 [00:00<00:00, 920.14it/s]"
     ]
    },
    {
     "name": "stdout",
     "output_type": "stream",
     "text": [
      "Results: {'mse': 390.40692138671875, 'mae': 15.71136474609375, 'rmse': 19.758718490600586}\n"
     ]
    },
    {
     "name": "stderr",
     "output_type": "stream",
     "text": [
      "\n"
     ]
    },
    {
     "data": {
      "image/png": "[encoded data removed]",
      "text/plain": [
       "<Figure size 640x480 with 1 Axes>"
      ]
     },
     "metadata": {},
     "output_type": "display_data"
    }
   ],
   "source": [
    "test_dataloader = datamodule.test_dataloader()\n",
    "predictions, ground_truth = predict(model, test_dataloader)\n",
    "results = test_model(predictions, ground_truth)\n",
    "print(\"Results:\", results)\n",
    "\n",
    "# take last window ([-1, :])\n",
    "predictions = predictions.cpu().numpy()[-1, :]\n",
    "\n",
    "plot_predictions_vs_real(test_split.dataset, predictions)"
   ]
  },
  {
   "cell_type": "markdown",
   "id": "fd8e168263de2148",
   "metadata": {},
   "source": [
    "### With provided data augmentation (synthetic data)"
   ]
  },
  {
   "cell_type": "code",
   "execution_count": 20,
   "id": "5f2fc55ac80ad8cf",
   "metadata": {
    "ExecuteTime": {
     "end_time": "2025-01-09T21:18:12.275364Z",
     "start_time": "2025-01-09T21:18:12.262155Z"
    }
   },
   "outputs": [],
   "source": [
    "def load_synthetic_datasets(path, window_size, window_step, horizon, max_num_fetched=None):\n",
    "    if max_num_fetched is not None and max_num_fetched < 0:\n",
    "        max_num_fetched = None\n",
    "    train_all = []\n",
    "    \n",
    "    i = 0\n",
    "    for filename in tqdm(os.listdir(path)):\n",
    "        if max_num_fetched is not None and i >= max_num_fetched:\n",
    "            break\n",
    "        i += 1\n",
    "        if filename.endswith(\".parquet\"):\n",
    "            df = pd.read_parquet(path + filename)\n",
    "            df_preprocessed = preprocess_synthetic_data(df)\n",
    "            train_all.append(DatasetWithWindow(df_preprocessed, window_size, window_step, horizon, [\"dayofweek\", \"hourofday\", \"dayofseries\", \"price\"], \"price\"))\n",
    "    \n",
    "    return train_all"
   ]
  },
  {
   "cell_type": "code",
   "execution_count": 77,
   "id": "7f08aee0791833aa",
   "metadata": {
    "ExecuteTime": {
     "end_time": "2025-01-09T21:24:47.807356Z",
     "start_time": "2025-01-09T21:24:47.759900Z"
    }
   },
   "outputs": [
    {
     "name": "stderr",
     "output_type": "stream",
     "text": [
      "100%|██████████| 154/154 [04:53<00:00,  1.91s/it]\n"
     ]
    }
   ],
   "source": [
    "directory = \"../data/scenarios synthetiques/prix/\"\n",
    "train_all = load_synthetic_datasets(directory, window_size, window_step, horizon, 20)"
   ]
  },
  {
   "cell_type": "code",
   "execution_count": 78,
   "id": "0b93015a",
   "metadata": {},
   "outputs": [],
   "source": [
    "train_concat = ConcatDataset(train_all)\n",
    "\n",
    "train_split_size = int(len(train_concat)*(1-VAL_RATIO))\n",
    "val_split_size = len(train_concat) - train_split_size\n",
    "\n",
    "train_split, val_split, _ = get_splits(train_concat, 0, VAL_RATIO)\n",
    "\n",
    "# test_split is the same (we don't want to test on synthetic data)\n",
    "\n",
    "datamodule = Datamodule(train_split, val_split, test_split, batch_size=256)"
   ]
  },
  {
   "cell_type": "code",
   "execution_count": 79,
   "id": "eb1b0c708824ba22",
   "metadata": {
    "ExecuteTime": {
     "end_time": "2025-01-09T21:25:30.257719Z",
     "start_time": "2025-01-09T21:24:50.560868Z"
    }
   },
   "outputs": [
    {
     "name": "stdout",
     "output_type": "stream",
     "text": [
      "                                                                            "
     ]
    },
    {
     "name": "stderr",
     "output_type": "stream",
     "text": [
      "d:\\Programs\\Anaconda\\envs\\air_liquide_ai_challenge\\lib\\site-packages\\lightning\\pytorch\\trainer\\connectors\\data_connector.py:425: The 'val_dataloader' does not have many workers which may be a bottleneck. Consider increasing the value of the `num_workers` argument` to `num_workers=15` in the `DataLoader` to improve performance.\n",
      "d:\\Programs\\Anaconda\\envs\\air_liquide_ai_challenge\\lib\\site-packages\\lightning\\pytorch\\trainer\\connectors\\data_connector.py:425: The 'train_dataloader' does not have many workers which may be a bottleneck. Consider increasing the value of the `num_workers` argument` to `num_workers=15` in the `DataLoader` to improve performance.\n"
     ]
    },
    {
     "name": "stdout",
     "output_type": "stream",
     "text": [
      "Epoch 5: 100%|██████████| 234/234 [00:02<00:00, 96.19it/s, train_loss=273.0, val_loss=293.0] \n"
     ]
    }
   ],
   "source": [
    "model, _ = train_model(datamodule, horizon, **best_params)"
   ]
  },
  {
   "cell_type": "code",
   "execution_count": 80,
   "id": "4d30bdc0",
   "metadata": {},
   "outputs": [
    {
     "name": "stderr",
     "output_type": "stream",
     "text": [
      "100%|██████████| 6/6 [00:00<00:00, 749.61it/s]"
     ]
    },
    {
     "name": "stdout",
     "output_type": "stream",
     "text": [
      "Results: {'mse': 279.3555908203125, 'mae': 12.428511619567871, 'rmse': 16.71393394470215}\n"
     ]
    },
    {
     "name": "stderr",
     "output_type": "stream",
     "text": [
      "\n"
     ]
    },
    {
     "data": {
      "image/png": "[encoded data removed]",
      "text/plain": [
       "<Figure size 640x480 with 1 Axes>"
      ]
     },
     "metadata": {},
     "output_type": "display_data"
    }
   ],
   "source": [
    "predictions, ground_truth = predict(model, test_dataloader)\n",
    "results = test_model(predictions, ground_truth)\n",
    "print(\"Results:\", results)\n",
    "\n",
    "# take last window ([-1, :])\n",
    "predictions = predictions.cpu().numpy()[-1, :]\n",
    "\n",
    "plot_predictions_vs_real(test_split.dataset, predictions)"
   ]
  }
 ],
 "metadata": {
  "kernelspec": {
   "display_name": "Python 3",
   "language": "python",
   "name": "python3"
  },
  "language_info": {
   "codemirror_mode": {
    "name": "ipython",
    "version": 3
   },
   "file_extension": ".py",
   "mimetype": "text/x-python",
   "name": "python",
   "nbconvert_exporter": "python",
   "pygments_lexer": "ipython3",
   "version": "3.10.16"
  }
 },
 "nbformat": 4,
 "nbformat_minor": 5
}
